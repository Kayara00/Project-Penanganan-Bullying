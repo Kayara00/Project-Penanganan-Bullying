{
  "nbformat": 4,
  "nbformat_minor": 0,
  "metadata": {
    "colab": {
      "provenance": []
    },
    "kernelspec": {
      "name": "python3",
      "display_name": "Python 3"
    },
    "language_info": {
      "name": "python"
    },
    "widgets": {
      "application/vnd.jupyter.widget-state+json": {
        "3ee0ce47c8b041f4af32e20d7f746917": {
          "model_module": "@jupyter-widgets/controls",
          "model_name": "HBoxModel",
          "model_module_version": "1.5.0",
          "state": {
            "_dom_classes": [],
            "_model_module": "@jupyter-widgets/controls",
            "_model_module_version": "1.5.0",
            "_model_name": "HBoxModel",
            "_view_count": null,
            "_view_module": "@jupyter-widgets/controls",
            "_view_module_version": "1.5.0",
            "_view_name": "HBoxView",
            "box_style": "",
            "children": [
              "IPY_MODEL_28d08d52ec674d108a44efcc3cdb6910",
              "IPY_MODEL_c275f9969de74ba090c9ba5a458167c8",
              "IPY_MODEL_edf285d230474836b45641ce6d37592e"
            ],
            "layout": "IPY_MODEL_0fbfdffac49e4b23bdb212a98ba348bd"
          }
        },
        "28d08d52ec674d108a44efcc3cdb6910": {
          "model_module": "@jupyter-widgets/controls",
          "model_name": "HTMLModel",
          "model_module_version": "1.5.0",
          "state": {
            "_dom_classes": [],
            "_model_module": "@jupyter-widgets/controls",
            "_model_module_version": "1.5.0",
            "_model_name": "HTMLModel",
            "_view_count": null,
            "_view_module": "@jupyter-widgets/controls",
            "_view_module_version": "1.5.0",
            "_view_name": "HTMLView",
            "description": "",
            "description_tooltip": null,
            "layout": "IPY_MODEL_14f69de66c934af08f0dda6b94c1f6f8",
            "placeholder": "​",
            "style": "IPY_MODEL_24425610b59745ce91cb7e6f9fb152f5",
            "value": "tokenizer_config.json: 100%"
          }
        },
        "c275f9969de74ba090c9ba5a458167c8": {
          "model_module": "@jupyter-widgets/controls",
          "model_name": "FloatProgressModel",
          "model_module_version": "1.5.0",
          "state": {
            "_dom_classes": [],
            "_model_module": "@jupyter-widgets/controls",
            "_model_module_version": "1.5.0",
            "_model_name": "FloatProgressModel",
            "_view_count": null,
            "_view_module": "@jupyter-widgets/controls",
            "_view_module_version": "1.5.0",
            "_view_name": "ProgressView",
            "bar_style": "success",
            "description": "",
            "description_tooltip": null,
            "layout": "IPY_MODEL_ec6505fead63443fbd10a1ccfde91d79",
            "max": 48,
            "min": 0,
            "orientation": "horizontal",
            "style": "IPY_MODEL_6f0f403d79a94e22a79af63e894f736e",
            "value": 48
          }
        },
        "edf285d230474836b45641ce6d37592e": {
          "model_module": "@jupyter-widgets/controls",
          "model_name": "HTMLModel",
          "model_module_version": "1.5.0",
          "state": {
            "_dom_classes": [],
            "_model_module": "@jupyter-widgets/controls",
            "_model_module_version": "1.5.0",
            "_model_name": "HTMLModel",
            "_view_count": null,
            "_view_module": "@jupyter-widgets/controls",
            "_view_module_version": "1.5.0",
            "_view_name": "HTMLView",
            "description": "",
            "description_tooltip": null,
            "layout": "IPY_MODEL_c42c8dccdda74dc28a24acc4362dd3e8",
            "placeholder": "​",
            "style": "IPY_MODEL_63d5e6123a9f48b1929b2d5e6ede7875",
            "value": " 48.0/48.0 [00:00&lt;00:00, 1.43kB/s]"
          }
        },
        "0fbfdffac49e4b23bdb212a98ba348bd": {
          "model_module": "@jupyter-widgets/base",
          "model_name": "LayoutModel",
          "model_module_version": "1.2.0",
          "state": {
            "_model_module": "@jupyter-widgets/base",
            "_model_module_version": "1.2.0",
            "_model_name": "LayoutModel",
            "_view_count": null,
            "_view_module": "@jupyter-widgets/base",
            "_view_module_version": "1.2.0",
            "_view_name": "LayoutView",
            "align_content": null,
            "align_items": null,
            "align_self": null,
            "border": null,
            "bottom": null,
            "display": null,
            "flex": null,
            "flex_flow": null,
            "grid_area": null,
            "grid_auto_columns": null,
            "grid_auto_flow": null,
            "grid_auto_rows": null,
            "grid_column": null,
            "grid_gap": null,
            "grid_row": null,
            "grid_template_areas": null,
            "grid_template_columns": null,
            "grid_template_rows": null,
            "height": null,
            "justify_content": null,
            "justify_items": null,
            "left": null,
            "margin": null,
            "max_height": null,
            "max_width": null,
            "min_height": null,
            "min_width": null,
            "object_fit": null,
            "object_position": null,
            "order": null,
            "overflow": null,
            "overflow_x": null,
            "overflow_y": null,
            "padding": null,
            "right": null,
            "top": null,
            "visibility": null,
            "width": null
          }
        },
        "14f69de66c934af08f0dda6b94c1f6f8": {
          "model_module": "@jupyter-widgets/base",
          "model_name": "LayoutModel",
          "model_module_version": "1.2.0",
          "state": {
            "_model_module": "@jupyter-widgets/base",
            "_model_module_version": "1.2.0",
            "_model_name": "LayoutModel",
            "_view_count": null,
            "_view_module": "@jupyter-widgets/base",
            "_view_module_version": "1.2.0",
            "_view_name": "LayoutView",
            "align_content": null,
            "align_items": null,
            "align_self": null,
            "border": null,
            "bottom": null,
            "display": null,
            "flex": null,
            "flex_flow": null,
            "grid_area": null,
            "grid_auto_columns": null,
            "grid_auto_flow": null,
            "grid_auto_rows": null,
            "grid_column": null,
            "grid_gap": null,
            "grid_row": null,
            "grid_template_areas": null,
            "grid_template_columns": null,
            "grid_template_rows": null,
            "height": null,
            "justify_content": null,
            "justify_items": null,
            "left": null,
            "margin": null,
            "max_height": null,
            "max_width": null,
            "min_height": null,
            "min_width": null,
            "object_fit": null,
            "object_position": null,
            "order": null,
            "overflow": null,
            "overflow_x": null,
            "overflow_y": null,
            "padding": null,
            "right": null,
            "top": null,
            "visibility": null,
            "width": null
          }
        },
        "24425610b59745ce91cb7e6f9fb152f5": {
          "model_module": "@jupyter-widgets/controls",
          "model_name": "DescriptionStyleModel",
          "model_module_version": "1.5.0",
          "state": {
            "_model_module": "@jupyter-widgets/controls",
            "_model_module_version": "1.5.0",
            "_model_name": "DescriptionStyleModel",
            "_view_count": null,
            "_view_module": "@jupyter-widgets/base",
            "_view_module_version": "1.2.0",
            "_view_name": "StyleView",
            "description_width": ""
          }
        },
        "ec6505fead63443fbd10a1ccfde91d79": {
          "model_module": "@jupyter-widgets/base",
          "model_name": "LayoutModel",
          "model_module_version": "1.2.0",
          "state": {
            "_model_module": "@jupyter-widgets/base",
            "_model_module_version": "1.2.0",
            "_model_name": "LayoutModel",
            "_view_count": null,
            "_view_module": "@jupyter-widgets/base",
            "_view_module_version": "1.2.0",
            "_view_name": "LayoutView",
            "align_content": null,
            "align_items": null,
            "align_self": null,
            "border": null,
            "bottom": null,
            "display": null,
            "flex": null,
            "flex_flow": null,
            "grid_area": null,
            "grid_auto_columns": null,
            "grid_auto_flow": null,
            "grid_auto_rows": null,
            "grid_column": null,
            "grid_gap": null,
            "grid_row": null,
            "grid_template_areas": null,
            "grid_template_columns": null,
            "grid_template_rows": null,
            "height": null,
            "justify_content": null,
            "justify_items": null,
            "left": null,
            "margin": null,
            "max_height": null,
            "max_width": null,
            "min_height": null,
            "min_width": null,
            "object_fit": null,
            "object_position": null,
            "order": null,
            "overflow": null,
            "overflow_x": null,
            "overflow_y": null,
            "padding": null,
            "right": null,
            "top": null,
            "visibility": null,
            "width": null
          }
        },
        "6f0f403d79a94e22a79af63e894f736e": {
          "model_module": "@jupyter-widgets/controls",
          "model_name": "ProgressStyleModel",
          "model_module_version": "1.5.0",
          "state": {
            "_model_module": "@jupyter-widgets/controls",
            "_model_module_version": "1.5.0",
            "_model_name": "ProgressStyleModel",
            "_view_count": null,
            "_view_module": "@jupyter-widgets/base",
            "_view_module_version": "1.2.0",
            "_view_name": "StyleView",
            "bar_color": null,
            "description_width": ""
          }
        },
        "c42c8dccdda74dc28a24acc4362dd3e8": {
          "model_module": "@jupyter-widgets/base",
          "model_name": "LayoutModel",
          "model_module_version": "1.2.0",
          "state": {
            "_model_module": "@jupyter-widgets/base",
            "_model_module_version": "1.2.0",
            "_model_name": "LayoutModel",
            "_view_count": null,
            "_view_module": "@jupyter-widgets/base",
            "_view_module_version": "1.2.0",
            "_view_name": "LayoutView",
            "align_content": null,
            "align_items": null,
            "align_self": null,
            "border": null,
            "bottom": null,
            "display": null,
            "flex": null,
            "flex_flow": null,
            "grid_area": null,
            "grid_auto_columns": null,
            "grid_auto_flow": null,
            "grid_auto_rows": null,
            "grid_column": null,
            "grid_gap": null,
            "grid_row": null,
            "grid_template_areas": null,
            "grid_template_columns": null,
            "grid_template_rows": null,
            "height": null,
            "justify_content": null,
            "justify_items": null,
            "left": null,
            "margin": null,
            "max_height": null,
            "max_width": null,
            "min_height": null,
            "min_width": null,
            "object_fit": null,
            "object_position": null,
            "order": null,
            "overflow": null,
            "overflow_x": null,
            "overflow_y": null,
            "padding": null,
            "right": null,
            "top": null,
            "visibility": null,
            "width": null
          }
        },
        "63d5e6123a9f48b1929b2d5e6ede7875": {
          "model_module": "@jupyter-widgets/controls",
          "model_name": "DescriptionStyleModel",
          "model_module_version": "1.5.0",
          "state": {
            "_model_module": "@jupyter-widgets/controls",
            "_model_module_version": "1.5.0",
            "_model_name": "DescriptionStyleModel",
            "_view_count": null,
            "_view_module": "@jupyter-widgets/base",
            "_view_module_version": "1.2.0",
            "_view_name": "StyleView",
            "description_width": ""
          }
        },
        "133e107af212447584e9664b67e9e149": {
          "model_module": "@jupyter-widgets/controls",
          "model_name": "HBoxModel",
          "model_module_version": "1.5.0",
          "state": {
            "_dom_classes": [],
            "_model_module": "@jupyter-widgets/controls",
            "_model_module_version": "1.5.0",
            "_model_name": "HBoxModel",
            "_view_count": null,
            "_view_module": "@jupyter-widgets/controls",
            "_view_module_version": "1.5.0",
            "_view_name": "HBoxView",
            "box_style": "",
            "children": [
              "IPY_MODEL_c6b990b76e2b44b8b91cabd26814684b",
              "IPY_MODEL_21e7addca99041b98bca350f08442eda",
              "IPY_MODEL_1a973ce97f0447bbb766c7ae02801e58"
            ],
            "layout": "IPY_MODEL_659af517be3146a59f3eeb9a95220c5d"
          }
        },
        "c6b990b76e2b44b8b91cabd26814684b": {
          "model_module": "@jupyter-widgets/controls",
          "model_name": "HTMLModel",
          "model_module_version": "1.5.0",
          "state": {
            "_dom_classes": [],
            "_model_module": "@jupyter-widgets/controls",
            "_model_module_version": "1.5.0",
            "_model_name": "HTMLModel",
            "_view_count": null,
            "_view_module": "@jupyter-widgets/controls",
            "_view_module_version": "1.5.0",
            "_view_name": "HTMLView",
            "description": "",
            "description_tooltip": null,
            "layout": "IPY_MODEL_00545509512546b5a95c05597922fdb9",
            "placeholder": "​",
            "style": "IPY_MODEL_9f0efa98e3254dc3af251127c98e54cc",
            "value": "vocab.txt: 100%"
          }
        },
        "21e7addca99041b98bca350f08442eda": {
          "model_module": "@jupyter-widgets/controls",
          "model_name": "FloatProgressModel",
          "model_module_version": "1.5.0",
          "state": {
            "_dom_classes": [],
            "_model_module": "@jupyter-widgets/controls",
            "_model_module_version": "1.5.0",
            "_model_name": "FloatProgressModel",
            "_view_count": null,
            "_view_module": "@jupyter-widgets/controls",
            "_view_module_version": "1.5.0",
            "_view_name": "ProgressView",
            "bar_style": "success",
            "description": "",
            "description_tooltip": null,
            "layout": "IPY_MODEL_da1ce557c41b408ea6dab47d6086277b",
            "max": 231508,
            "min": 0,
            "orientation": "horizontal",
            "style": "IPY_MODEL_98b45825b43046e9b26949563e626c8f",
            "value": 231508
          }
        },
        "1a973ce97f0447bbb766c7ae02801e58": {
          "model_module": "@jupyter-widgets/controls",
          "model_name": "HTMLModel",
          "model_module_version": "1.5.0",
          "state": {
            "_dom_classes": [],
            "_model_module": "@jupyter-widgets/controls",
            "_model_module_version": "1.5.0",
            "_model_name": "HTMLModel",
            "_view_count": null,
            "_view_module": "@jupyter-widgets/controls",
            "_view_module_version": "1.5.0",
            "_view_name": "HTMLView",
            "description": "",
            "description_tooltip": null,
            "layout": "IPY_MODEL_7ffc6f79510e4063868fb9d976e7f92f",
            "placeholder": "​",
            "style": "IPY_MODEL_9c82e73640694f3391dc8ac3c2c8114f",
            "value": " 232k/232k [00:00&lt;00:00, 1.73MB/s]"
          }
        },
        "659af517be3146a59f3eeb9a95220c5d": {
          "model_module": "@jupyter-widgets/base",
          "model_name": "LayoutModel",
          "model_module_version": "1.2.0",
          "state": {
            "_model_module": "@jupyter-widgets/base",
            "_model_module_version": "1.2.0",
            "_model_name": "LayoutModel",
            "_view_count": null,
            "_view_module": "@jupyter-widgets/base",
            "_view_module_version": "1.2.0",
            "_view_name": "LayoutView",
            "align_content": null,
            "align_items": null,
            "align_self": null,
            "border": null,
            "bottom": null,
            "display": null,
            "flex": null,
            "flex_flow": null,
            "grid_area": null,
            "grid_auto_columns": null,
            "grid_auto_flow": null,
            "grid_auto_rows": null,
            "grid_column": null,
            "grid_gap": null,
            "grid_row": null,
            "grid_template_areas": null,
            "grid_template_columns": null,
            "grid_template_rows": null,
            "height": null,
            "justify_content": null,
            "justify_items": null,
            "left": null,
            "margin": null,
            "max_height": null,
            "max_width": null,
            "min_height": null,
            "min_width": null,
            "object_fit": null,
            "object_position": null,
            "order": null,
            "overflow": null,
            "overflow_x": null,
            "overflow_y": null,
            "padding": null,
            "right": null,
            "top": null,
            "visibility": null,
            "width": null
          }
        },
        "00545509512546b5a95c05597922fdb9": {
          "model_module": "@jupyter-widgets/base",
          "model_name": "LayoutModel",
          "model_module_version": "1.2.0",
          "state": {
            "_model_module": "@jupyter-widgets/base",
            "_model_module_version": "1.2.0",
            "_model_name": "LayoutModel",
            "_view_count": null,
            "_view_module": "@jupyter-widgets/base",
            "_view_module_version": "1.2.0",
            "_view_name": "LayoutView",
            "align_content": null,
            "align_items": null,
            "align_self": null,
            "border": null,
            "bottom": null,
            "display": null,
            "flex": null,
            "flex_flow": null,
            "grid_area": null,
            "grid_auto_columns": null,
            "grid_auto_flow": null,
            "grid_auto_rows": null,
            "grid_column": null,
            "grid_gap": null,
            "grid_row": null,
            "grid_template_areas": null,
            "grid_template_columns": null,
            "grid_template_rows": null,
            "height": null,
            "justify_content": null,
            "justify_items": null,
            "left": null,
            "margin": null,
            "max_height": null,
            "max_width": null,
            "min_height": null,
            "min_width": null,
            "object_fit": null,
            "object_position": null,
            "order": null,
            "overflow": null,
            "overflow_x": null,
            "overflow_y": null,
            "padding": null,
            "right": null,
            "top": null,
            "visibility": null,
            "width": null
          }
        },
        "9f0efa98e3254dc3af251127c98e54cc": {
          "model_module": "@jupyter-widgets/controls",
          "model_name": "DescriptionStyleModel",
          "model_module_version": "1.5.0",
          "state": {
            "_model_module": "@jupyter-widgets/controls",
            "_model_module_version": "1.5.0",
            "_model_name": "DescriptionStyleModel",
            "_view_count": null,
            "_view_module": "@jupyter-widgets/base",
            "_view_module_version": "1.2.0",
            "_view_name": "StyleView",
            "description_width": ""
          }
        },
        "da1ce557c41b408ea6dab47d6086277b": {
          "model_module": "@jupyter-widgets/base",
          "model_name": "LayoutModel",
          "model_module_version": "1.2.0",
          "state": {
            "_model_module": "@jupyter-widgets/base",
            "_model_module_version": "1.2.0",
            "_model_name": "LayoutModel",
            "_view_count": null,
            "_view_module": "@jupyter-widgets/base",
            "_view_module_version": "1.2.0",
            "_view_name": "LayoutView",
            "align_content": null,
            "align_items": null,
            "align_self": null,
            "border": null,
            "bottom": null,
            "display": null,
            "flex": null,
            "flex_flow": null,
            "grid_area": null,
            "grid_auto_columns": null,
            "grid_auto_flow": null,
            "grid_auto_rows": null,
            "grid_column": null,
            "grid_gap": null,
            "grid_row": null,
            "grid_template_areas": null,
            "grid_template_columns": null,
            "grid_template_rows": null,
            "height": null,
            "justify_content": null,
            "justify_items": null,
            "left": null,
            "margin": null,
            "max_height": null,
            "max_width": null,
            "min_height": null,
            "min_width": null,
            "object_fit": null,
            "object_position": null,
            "order": null,
            "overflow": null,
            "overflow_x": null,
            "overflow_y": null,
            "padding": null,
            "right": null,
            "top": null,
            "visibility": null,
            "width": null
          }
        },
        "98b45825b43046e9b26949563e626c8f": {
          "model_module": "@jupyter-widgets/controls",
          "model_name": "ProgressStyleModel",
          "model_module_version": "1.5.0",
          "state": {
            "_model_module": "@jupyter-widgets/controls",
            "_model_module_version": "1.5.0",
            "_model_name": "ProgressStyleModel",
            "_view_count": null,
            "_view_module": "@jupyter-widgets/base",
            "_view_module_version": "1.2.0",
            "_view_name": "StyleView",
            "bar_color": null,
            "description_width": ""
          }
        },
        "7ffc6f79510e4063868fb9d976e7f92f": {
          "model_module": "@jupyter-widgets/base",
          "model_name": "LayoutModel",
          "model_module_version": "1.2.0",
          "state": {
            "_model_module": "@jupyter-widgets/base",
            "_model_module_version": "1.2.0",
            "_model_name": "LayoutModel",
            "_view_count": null,
            "_view_module": "@jupyter-widgets/base",
            "_view_module_version": "1.2.0",
            "_view_name": "LayoutView",
            "align_content": null,
            "align_items": null,
            "align_self": null,
            "border": null,
            "bottom": null,
            "display": null,
            "flex": null,
            "flex_flow": null,
            "grid_area": null,
            "grid_auto_columns": null,
            "grid_auto_flow": null,
            "grid_auto_rows": null,
            "grid_column": null,
            "grid_gap": null,
            "grid_row": null,
            "grid_template_areas": null,
            "grid_template_columns": null,
            "grid_template_rows": null,
            "height": null,
            "justify_content": null,
            "justify_items": null,
            "left": null,
            "margin": null,
            "max_height": null,
            "max_width": null,
            "min_height": null,
            "min_width": null,
            "object_fit": null,
            "object_position": null,
            "order": null,
            "overflow": null,
            "overflow_x": null,
            "overflow_y": null,
            "padding": null,
            "right": null,
            "top": null,
            "visibility": null,
            "width": null
          }
        },
        "9c82e73640694f3391dc8ac3c2c8114f": {
          "model_module": "@jupyter-widgets/controls",
          "model_name": "DescriptionStyleModel",
          "model_module_version": "1.5.0",
          "state": {
            "_model_module": "@jupyter-widgets/controls",
            "_model_module_version": "1.5.0",
            "_model_name": "DescriptionStyleModel",
            "_view_count": null,
            "_view_module": "@jupyter-widgets/base",
            "_view_module_version": "1.2.0",
            "_view_name": "StyleView",
            "description_width": ""
          }
        },
        "a19b88f8c7cc44b58b84675ca421d11a": {
          "model_module": "@jupyter-widgets/controls",
          "model_name": "HBoxModel",
          "model_module_version": "1.5.0",
          "state": {
            "_dom_classes": [],
            "_model_module": "@jupyter-widgets/controls",
            "_model_module_version": "1.5.0",
            "_model_name": "HBoxModel",
            "_view_count": null,
            "_view_module": "@jupyter-widgets/controls",
            "_view_module_version": "1.5.0",
            "_view_name": "HBoxView",
            "box_style": "",
            "children": [
              "IPY_MODEL_2a860fb59aab44e5981590a3fbee6fe2",
              "IPY_MODEL_fb87b01cc28248458b4cecb1ab0c019d",
              "IPY_MODEL_4eee8a1373eb4bfdb18632e5c2037127"
            ],
            "layout": "IPY_MODEL_2d99334d1c26484b9d806699fb043dfb"
          }
        },
        "2a860fb59aab44e5981590a3fbee6fe2": {
          "model_module": "@jupyter-widgets/controls",
          "model_name": "HTMLModel",
          "model_module_version": "1.5.0",
          "state": {
            "_dom_classes": [],
            "_model_module": "@jupyter-widgets/controls",
            "_model_module_version": "1.5.0",
            "_model_name": "HTMLModel",
            "_view_count": null,
            "_view_module": "@jupyter-widgets/controls",
            "_view_module_version": "1.5.0",
            "_view_name": "HTMLView",
            "description": "",
            "description_tooltip": null,
            "layout": "IPY_MODEL_2da1aad226204a27a3bfd7cb3fdc1060",
            "placeholder": "​",
            "style": "IPY_MODEL_f0f5d213f9244d879591f4192888e2ba",
            "value": "tokenizer.json: 100%"
          }
        },
        "fb87b01cc28248458b4cecb1ab0c019d": {
          "model_module": "@jupyter-widgets/controls",
          "model_name": "FloatProgressModel",
          "model_module_version": "1.5.0",
          "state": {
            "_dom_classes": [],
            "_model_module": "@jupyter-widgets/controls",
            "_model_module_version": "1.5.0",
            "_model_name": "FloatProgressModel",
            "_view_count": null,
            "_view_module": "@jupyter-widgets/controls",
            "_view_module_version": "1.5.0",
            "_view_name": "ProgressView",
            "bar_style": "success",
            "description": "",
            "description_tooltip": null,
            "layout": "IPY_MODEL_47cda5d9bc1740beb0d072c6276e50fb",
            "max": 466062,
            "min": 0,
            "orientation": "horizontal",
            "style": "IPY_MODEL_87099a1d1c0b4ce38da92f29f4464e8f",
            "value": 466062
          }
        },
        "4eee8a1373eb4bfdb18632e5c2037127": {
          "model_module": "@jupyter-widgets/controls",
          "model_name": "HTMLModel",
          "model_module_version": "1.5.0",
          "state": {
            "_dom_classes": [],
            "_model_module": "@jupyter-widgets/controls",
            "_model_module_version": "1.5.0",
            "_model_name": "HTMLModel",
            "_view_count": null,
            "_view_module": "@jupyter-widgets/controls",
            "_view_module_version": "1.5.0",
            "_view_name": "HTMLView",
            "description": "",
            "description_tooltip": null,
            "layout": "IPY_MODEL_9990ae23c8ce4c40bfbe487dd2e0d8a8",
            "placeholder": "​",
            "style": "IPY_MODEL_7ed2eaba873e429b8082506a227c9b2e",
            "value": " 466k/466k [00:00&lt;00:00, 2.38MB/s]"
          }
        },
        "2d99334d1c26484b9d806699fb043dfb": {
          "model_module": "@jupyter-widgets/base",
          "model_name": "LayoutModel",
          "model_module_version": "1.2.0",
          "state": {
            "_model_module": "@jupyter-widgets/base",
            "_model_module_version": "1.2.0",
            "_model_name": "LayoutModel",
            "_view_count": null,
            "_view_module": "@jupyter-widgets/base",
            "_view_module_version": "1.2.0",
            "_view_name": "LayoutView",
            "align_content": null,
            "align_items": null,
            "align_self": null,
            "border": null,
            "bottom": null,
            "display": null,
            "flex": null,
            "flex_flow": null,
            "grid_area": null,
            "grid_auto_columns": null,
            "grid_auto_flow": null,
            "grid_auto_rows": null,
            "grid_column": null,
            "grid_gap": null,
            "grid_row": null,
            "grid_template_areas": null,
            "grid_template_columns": null,
            "grid_template_rows": null,
            "height": null,
            "justify_content": null,
            "justify_items": null,
            "left": null,
            "margin": null,
            "max_height": null,
            "max_width": null,
            "min_height": null,
            "min_width": null,
            "object_fit": null,
            "object_position": null,
            "order": null,
            "overflow": null,
            "overflow_x": null,
            "overflow_y": null,
            "padding": null,
            "right": null,
            "top": null,
            "visibility": null,
            "width": null
          }
        },
        "2da1aad226204a27a3bfd7cb3fdc1060": {
          "model_module": "@jupyter-widgets/base",
          "model_name": "LayoutModel",
          "model_module_version": "1.2.0",
          "state": {
            "_model_module": "@jupyter-widgets/base",
            "_model_module_version": "1.2.0",
            "_model_name": "LayoutModel",
            "_view_count": null,
            "_view_module": "@jupyter-widgets/base",
            "_view_module_version": "1.2.0",
            "_view_name": "LayoutView",
            "align_content": null,
            "align_items": null,
            "align_self": null,
            "border": null,
            "bottom": null,
            "display": null,
            "flex": null,
            "flex_flow": null,
            "grid_area": null,
            "grid_auto_columns": null,
            "grid_auto_flow": null,
            "grid_auto_rows": null,
            "grid_column": null,
            "grid_gap": null,
            "grid_row": null,
            "grid_template_areas": null,
            "grid_template_columns": null,
            "grid_template_rows": null,
            "height": null,
            "justify_content": null,
            "justify_items": null,
            "left": null,
            "margin": null,
            "max_height": null,
            "max_width": null,
            "min_height": null,
            "min_width": null,
            "object_fit": null,
            "object_position": null,
            "order": null,
            "overflow": null,
            "overflow_x": null,
            "overflow_y": null,
            "padding": null,
            "right": null,
            "top": null,
            "visibility": null,
            "width": null
          }
        },
        "f0f5d213f9244d879591f4192888e2ba": {
          "model_module": "@jupyter-widgets/controls",
          "model_name": "DescriptionStyleModel",
          "model_module_version": "1.5.0",
          "state": {
            "_model_module": "@jupyter-widgets/controls",
            "_model_module_version": "1.5.0",
            "_model_name": "DescriptionStyleModel",
            "_view_count": null,
            "_view_module": "@jupyter-widgets/base",
            "_view_module_version": "1.2.0",
            "_view_name": "StyleView",
            "description_width": ""
          }
        },
        "47cda5d9bc1740beb0d072c6276e50fb": {
          "model_module": "@jupyter-widgets/base",
          "model_name": "LayoutModel",
          "model_module_version": "1.2.0",
          "state": {
            "_model_module": "@jupyter-widgets/base",
            "_model_module_version": "1.2.0",
            "_model_name": "LayoutModel",
            "_view_count": null,
            "_view_module": "@jupyter-widgets/base",
            "_view_module_version": "1.2.0",
            "_view_name": "LayoutView",
            "align_content": null,
            "align_items": null,
            "align_self": null,
            "border": null,
            "bottom": null,
            "display": null,
            "flex": null,
            "flex_flow": null,
            "grid_area": null,
            "grid_auto_columns": null,
            "grid_auto_flow": null,
            "grid_auto_rows": null,
            "grid_column": null,
            "grid_gap": null,
            "grid_row": null,
            "grid_template_areas": null,
            "grid_template_columns": null,
            "grid_template_rows": null,
            "height": null,
            "justify_content": null,
            "justify_items": null,
            "left": null,
            "margin": null,
            "max_height": null,
            "max_width": null,
            "min_height": null,
            "min_width": null,
            "object_fit": null,
            "object_position": null,
            "order": null,
            "overflow": null,
            "overflow_x": null,
            "overflow_y": null,
            "padding": null,
            "right": null,
            "top": null,
            "visibility": null,
            "width": null
          }
        },
        "87099a1d1c0b4ce38da92f29f4464e8f": {
          "model_module": "@jupyter-widgets/controls",
          "model_name": "ProgressStyleModel",
          "model_module_version": "1.5.0",
          "state": {
            "_model_module": "@jupyter-widgets/controls",
            "_model_module_version": "1.5.0",
            "_model_name": "ProgressStyleModel",
            "_view_count": null,
            "_view_module": "@jupyter-widgets/base",
            "_view_module_version": "1.2.0",
            "_view_name": "StyleView",
            "bar_color": null,
            "description_width": ""
          }
        },
        "9990ae23c8ce4c40bfbe487dd2e0d8a8": {
          "model_module": "@jupyter-widgets/base",
          "model_name": "LayoutModel",
          "model_module_version": "1.2.0",
          "state": {
            "_model_module": "@jupyter-widgets/base",
            "_model_module_version": "1.2.0",
            "_model_name": "LayoutModel",
            "_view_count": null,
            "_view_module": "@jupyter-widgets/base",
            "_view_module_version": "1.2.0",
            "_view_name": "LayoutView",
            "align_content": null,
            "align_items": null,
            "align_self": null,
            "border": null,
            "bottom": null,
            "display": null,
            "flex": null,
            "flex_flow": null,
            "grid_area": null,
            "grid_auto_columns": null,
            "grid_auto_flow": null,
            "grid_auto_rows": null,
            "grid_column": null,
            "grid_gap": null,
            "grid_row": null,
            "grid_template_areas": null,
            "grid_template_columns": null,
            "grid_template_rows": null,
            "height": null,
            "justify_content": null,
            "justify_items": null,
            "left": null,
            "margin": null,
            "max_height": null,
            "max_width": null,
            "min_height": null,
            "min_width": null,
            "object_fit": null,
            "object_position": null,
            "order": null,
            "overflow": null,
            "overflow_x": null,
            "overflow_y": null,
            "padding": null,
            "right": null,
            "top": null,
            "visibility": null,
            "width": null
          }
        },
        "7ed2eaba873e429b8082506a227c9b2e": {
          "model_module": "@jupyter-widgets/controls",
          "model_name": "DescriptionStyleModel",
          "model_module_version": "1.5.0",
          "state": {
            "_model_module": "@jupyter-widgets/controls",
            "_model_module_version": "1.5.0",
            "_model_name": "DescriptionStyleModel",
            "_view_count": null,
            "_view_module": "@jupyter-widgets/base",
            "_view_module_version": "1.2.0",
            "_view_name": "StyleView",
            "description_width": ""
          }
        },
        "454b544db89d4d54af7a2aba33d2ee7e": {
          "model_module": "@jupyter-widgets/controls",
          "model_name": "HBoxModel",
          "model_module_version": "1.5.0",
          "state": {
            "_dom_classes": [],
            "_model_module": "@jupyter-widgets/controls",
            "_model_module_version": "1.5.0",
            "_model_name": "HBoxModel",
            "_view_count": null,
            "_view_module": "@jupyter-widgets/controls",
            "_view_module_version": "1.5.0",
            "_view_name": "HBoxView",
            "box_style": "",
            "children": [
              "IPY_MODEL_242a205aab4040149ea7c9f533647285",
              "IPY_MODEL_b9e75e9fa2964b45b382b29009602304",
              "IPY_MODEL_ec3d762cda0a47feb63b8f52480244b4"
            ],
            "layout": "IPY_MODEL_45df674aceaa4cbeac34c85d2ac81ba4"
          }
        },
        "242a205aab4040149ea7c9f533647285": {
          "model_module": "@jupyter-widgets/controls",
          "model_name": "HTMLModel",
          "model_module_version": "1.5.0",
          "state": {
            "_dom_classes": [],
            "_model_module": "@jupyter-widgets/controls",
            "_model_module_version": "1.5.0",
            "_model_name": "HTMLModel",
            "_view_count": null,
            "_view_module": "@jupyter-widgets/controls",
            "_view_module_version": "1.5.0",
            "_view_name": "HTMLView",
            "description": "",
            "description_tooltip": null,
            "layout": "IPY_MODEL_7dcc1015090f469cac9bfd2d8ed51dcf",
            "placeholder": "​",
            "style": "IPY_MODEL_1cfee9a65988490ca19212b10b7eee47",
            "value": "config.json: 100%"
          }
        },
        "b9e75e9fa2964b45b382b29009602304": {
          "model_module": "@jupyter-widgets/controls",
          "model_name": "FloatProgressModel",
          "model_module_version": "1.5.0",
          "state": {
            "_dom_classes": [],
            "_model_module": "@jupyter-widgets/controls",
            "_model_module_version": "1.5.0",
            "_model_name": "FloatProgressModel",
            "_view_count": null,
            "_view_module": "@jupyter-widgets/controls",
            "_view_module_version": "1.5.0",
            "_view_name": "ProgressView",
            "bar_style": "success",
            "description": "",
            "description_tooltip": null,
            "layout": "IPY_MODEL_6b5d9f9d87e945db974bb4c16bfd97f5",
            "max": 570,
            "min": 0,
            "orientation": "horizontal",
            "style": "IPY_MODEL_92bee29561e347fc853a282657ecc8f2",
            "value": 570
          }
        },
        "ec3d762cda0a47feb63b8f52480244b4": {
          "model_module": "@jupyter-widgets/controls",
          "model_name": "HTMLModel",
          "model_module_version": "1.5.0",
          "state": {
            "_dom_classes": [],
            "_model_module": "@jupyter-widgets/controls",
            "_model_module_version": "1.5.0",
            "_model_name": "HTMLModel",
            "_view_count": null,
            "_view_module": "@jupyter-widgets/controls",
            "_view_module_version": "1.5.0",
            "_view_name": "HTMLView",
            "description": "",
            "description_tooltip": null,
            "layout": "IPY_MODEL_0878d3bfde944248aa22ee1dfda30aec",
            "placeholder": "​",
            "style": "IPY_MODEL_66b15f6150ce486c985b4070c0f71ead",
            "value": " 570/570 [00:00&lt;00:00, 31.5kB/s]"
          }
        },
        "45df674aceaa4cbeac34c85d2ac81ba4": {
          "model_module": "@jupyter-widgets/base",
          "model_name": "LayoutModel",
          "model_module_version": "1.2.0",
          "state": {
            "_model_module": "@jupyter-widgets/base",
            "_model_module_version": "1.2.0",
            "_model_name": "LayoutModel",
            "_view_count": null,
            "_view_module": "@jupyter-widgets/base",
            "_view_module_version": "1.2.0",
            "_view_name": "LayoutView",
            "align_content": null,
            "align_items": null,
            "align_self": null,
            "border": null,
            "bottom": null,
            "display": null,
            "flex": null,
            "flex_flow": null,
            "grid_area": null,
            "grid_auto_columns": null,
            "grid_auto_flow": null,
            "grid_auto_rows": null,
            "grid_column": null,
            "grid_gap": null,
            "grid_row": null,
            "grid_template_areas": null,
            "grid_template_columns": null,
            "grid_template_rows": null,
            "height": null,
            "justify_content": null,
            "justify_items": null,
            "left": null,
            "margin": null,
            "max_height": null,
            "max_width": null,
            "min_height": null,
            "min_width": null,
            "object_fit": null,
            "object_position": null,
            "order": null,
            "overflow": null,
            "overflow_x": null,
            "overflow_y": null,
            "padding": null,
            "right": null,
            "top": null,
            "visibility": null,
            "width": null
          }
        },
        "7dcc1015090f469cac9bfd2d8ed51dcf": {
          "model_module": "@jupyter-widgets/base",
          "model_name": "LayoutModel",
          "model_module_version": "1.2.0",
          "state": {
            "_model_module": "@jupyter-widgets/base",
            "_model_module_version": "1.2.0",
            "_model_name": "LayoutModel",
            "_view_count": null,
            "_view_module": "@jupyter-widgets/base",
            "_view_module_version": "1.2.0",
            "_view_name": "LayoutView",
            "align_content": null,
            "align_items": null,
            "align_self": null,
            "border": null,
            "bottom": null,
            "display": null,
            "flex": null,
            "flex_flow": null,
            "grid_area": null,
            "grid_auto_columns": null,
            "grid_auto_flow": null,
            "grid_auto_rows": null,
            "grid_column": null,
            "grid_gap": null,
            "grid_row": null,
            "grid_template_areas": null,
            "grid_template_columns": null,
            "grid_template_rows": null,
            "height": null,
            "justify_content": null,
            "justify_items": null,
            "left": null,
            "margin": null,
            "max_height": null,
            "max_width": null,
            "min_height": null,
            "min_width": null,
            "object_fit": null,
            "object_position": null,
            "order": null,
            "overflow": null,
            "overflow_x": null,
            "overflow_y": null,
            "padding": null,
            "right": null,
            "top": null,
            "visibility": null,
            "width": null
          }
        },
        "1cfee9a65988490ca19212b10b7eee47": {
          "model_module": "@jupyter-widgets/controls",
          "model_name": "DescriptionStyleModel",
          "model_module_version": "1.5.0",
          "state": {
            "_model_module": "@jupyter-widgets/controls",
            "_model_module_version": "1.5.0",
            "_model_name": "DescriptionStyleModel",
            "_view_count": null,
            "_view_module": "@jupyter-widgets/base",
            "_view_module_version": "1.2.0",
            "_view_name": "StyleView",
            "description_width": ""
          }
        },
        "6b5d9f9d87e945db974bb4c16bfd97f5": {
          "model_module": "@jupyter-widgets/base",
          "model_name": "LayoutModel",
          "model_module_version": "1.2.0",
          "state": {
            "_model_module": "@jupyter-widgets/base",
            "_model_module_version": "1.2.0",
            "_model_name": "LayoutModel",
            "_view_count": null,
            "_view_module": "@jupyter-widgets/base",
            "_view_module_version": "1.2.0",
            "_view_name": "LayoutView",
            "align_content": null,
            "align_items": null,
            "align_self": null,
            "border": null,
            "bottom": null,
            "display": null,
            "flex": null,
            "flex_flow": null,
            "grid_area": null,
            "grid_auto_columns": null,
            "grid_auto_flow": null,
            "grid_auto_rows": null,
            "grid_column": null,
            "grid_gap": null,
            "grid_row": null,
            "grid_template_areas": null,
            "grid_template_columns": null,
            "grid_template_rows": null,
            "height": null,
            "justify_content": null,
            "justify_items": null,
            "left": null,
            "margin": null,
            "max_height": null,
            "max_width": null,
            "min_height": null,
            "min_width": null,
            "object_fit": null,
            "object_position": null,
            "order": null,
            "overflow": null,
            "overflow_x": null,
            "overflow_y": null,
            "padding": null,
            "right": null,
            "top": null,
            "visibility": null,
            "width": null
          }
        },
        "92bee29561e347fc853a282657ecc8f2": {
          "model_module": "@jupyter-widgets/controls",
          "model_name": "ProgressStyleModel",
          "model_module_version": "1.5.0",
          "state": {
            "_model_module": "@jupyter-widgets/controls",
            "_model_module_version": "1.5.0",
            "_model_name": "ProgressStyleModel",
            "_view_count": null,
            "_view_module": "@jupyter-widgets/base",
            "_view_module_version": "1.2.0",
            "_view_name": "StyleView",
            "bar_color": null,
            "description_width": ""
          }
        },
        "0878d3bfde944248aa22ee1dfda30aec": {
          "model_module": "@jupyter-widgets/base",
          "model_name": "LayoutModel",
          "model_module_version": "1.2.0",
          "state": {
            "_model_module": "@jupyter-widgets/base",
            "_model_module_version": "1.2.0",
            "_model_name": "LayoutModel",
            "_view_count": null,
            "_view_module": "@jupyter-widgets/base",
            "_view_module_version": "1.2.0",
            "_view_name": "LayoutView",
            "align_content": null,
            "align_items": null,
            "align_self": null,
            "border": null,
            "bottom": null,
            "display": null,
            "flex": null,
            "flex_flow": null,
            "grid_area": null,
            "grid_auto_columns": null,
            "grid_auto_flow": null,
            "grid_auto_rows": null,
            "grid_column": null,
            "grid_gap": null,
            "grid_row": null,
            "grid_template_areas": null,
            "grid_template_columns": null,
            "grid_template_rows": null,
            "height": null,
            "justify_content": null,
            "justify_items": null,
            "left": null,
            "margin": null,
            "max_height": null,
            "max_width": null,
            "min_height": null,
            "min_width": null,
            "object_fit": null,
            "object_position": null,
            "order": null,
            "overflow": null,
            "overflow_x": null,
            "overflow_y": null,
            "padding": null,
            "right": null,
            "top": null,
            "visibility": null,
            "width": null
          }
        },
        "66b15f6150ce486c985b4070c0f71ead": {
          "model_module": "@jupyter-widgets/controls",
          "model_name": "DescriptionStyleModel",
          "model_module_version": "1.5.0",
          "state": {
            "_model_module": "@jupyter-widgets/controls",
            "_model_module_version": "1.5.0",
            "_model_name": "DescriptionStyleModel",
            "_view_count": null,
            "_view_module": "@jupyter-widgets/base",
            "_view_module_version": "1.2.0",
            "_view_name": "StyleView",
            "description_width": ""
          }
        }
      }
    }
  },
  "cells": [
    {
      "cell_type": "code",
      "source": [
        "#Libraries for general purpose\n",
        "import pandas as pd\n",
        "import numpy as np\n",
        "import matplotlib.pyplot as plt\n",
        "import seaborn as sns\n",
        "from tqdm import tqdm\n",
        "\n",
        "#Text cleaning\n",
        "import re,string\n",
        "import nltk\n",
        "nltk.download('punkt')\n",
        "nltk.download('stopwords')\n",
        "from nltk.corpus import stopwords\n",
        "stop_words = set(stopwords.words('indonesian'))  # Sesuaikan dengan bahasa yang sesuai\n",
        "from nltk.stem import WordNetLemmatizer,PorterStemmer\n",
        "from nltk.corpus import stopwords\n",
        "\n",
        "#Data preprocessing\n",
        "from sklearn import preprocessing\n",
        "from sklearn.model_selection import train_test_split\n",
        "from imblearn.over_sampling import RandomOverSampler\n",
        "\n",
        "#Naive Bayes\n",
        "from sklearn.feature_extraction.text import CountVectorizer , TfidfTransformer\n",
        "from sklearn.naive_bayes import MultinomialNB\n",
        "\n",
        "#PyTorch LSTM\n",
        "import torch\n",
        "import torch.nn as nn\n",
        "import torch.nn.functional as F\n",
        "from torch.utils.data import TensorDataset, DataLoader, RandomSampler, SequentialSampler\n",
        "\n",
        "#Tokenization for LSTM\n",
        "from collections import Counter\n",
        "from gensim.models import Word2Vec\n",
        "\n",
        "#Transformers library for BERT\n",
        "import transformers\n",
        "from transformers import BertModel\n",
        "from transformers import BertTokenizer\n",
        "from transformers import AdamW , get_linear_schedule_with_warmup\n",
        "\n",
        "from sklearn.metrics import classification_report , confusion_matrix\n",
        "\n",
        "#Seed for reproducibility\n",
        "import random\n",
        "\n",
        "seed_value = 42\n",
        "random.seed(seed_value)\n",
        "np.random.seed(seed_value)\n",
        "torch.manual_seed(seed_value)\n",
        "torch.cuda.manual_seed(seed_value)\n",
        "\n",
        "import time\n",
        "\n",
        "#set style for plots\n",
        "sns.set_style('whitegrid')\n",
        "sns.despine()\n",
        "plt.style.use('seaborn-whitegrid')\n",
        "plt.rc(\"figure\",autolayout=True)\n",
        "plt.rc('axes',labelweight='bold',labelsize='large',titleweight='bold',titlepad=10)"
      ],
      "metadata": {
        "colab": {
          "base_uri": "https://localhost:8080/",
          "height": 159
        },
        "id": "7UblSNhFKZHj",
        "outputId": "0867583e-bd42-4449-d8af-c1387d667eb3"
      },
      "execution_count": null,
      "outputs": [
        {
          "output_type": "stream",
          "name": "stderr",
          "text": [
            "[nltk_data] Downloading package punkt to /root/nltk_data...\n",
            "[nltk_data]   Unzipping tokenizers/punkt.zip.\n",
            "[nltk_data] Downloading package stopwords to /root/nltk_data...\n",
            "[nltk_data]   Unzipping corpora/stopwords.zip.\n",
            "<ipython-input-2-d0f9e0243457>:59: MatplotlibDeprecationWarning: The seaborn styles shipped by Matplotlib are deprecated since 3.6, as they no longer correspond to the styles shipped by seaborn. However, they will remain available as 'seaborn-v0_8-<style>'. Alternatively, directly use the seaborn API instead.\n",
            "  plt.style.use('seaborn-whitegrid')\n"
          ]
        },
        {
          "output_type": "display_data",
          "data": {
            "text/plain": [
              "<Figure size 640x480 with 0 Axes>"
            ]
          },
          "metadata": {}
        }
      ]
    },
    {
      "cell_type": "code",
      "source": [
        "df = pd.read_csv('/content/Bullying - Copy.csv')\n",
        "df.head()"
      ],
      "metadata": {
        "colab": {
          "base_uri": "https://localhost:8080/",
          "height": 206
        },
        "id": "4GB1fOJDTYFI",
        "outputId": "b65331ee-a0af-42f5-e1b0-0080d5050bd1"
      },
      "execution_count": null,
      "outputs": [
        {
          "output_type": "execute_result",
          "data": {
            "text/plain": [
              "                                  Deskripsi_Kejadian Jenis_Bullying\n",
              "0  dipukul, disundut dengan rokok, disundut pakai...          Fisik\n",
              "1  Ketika saya jajan, saya dibuat jatuh oleh pela...          Fisik\n",
              "2  Ketika korban sedang mengikuti lomba kemerdeka...          Fisik\n",
              "3  Memberikan korban pukulan hingga menendang, se...          Fisik\n",
              "4  2 pelaku memegangi kaki kucing. Kemudian pakai...        Seksual"
            ],
            "text/html": [
              "\n",
              "  <div id=\"df-acd2c916-29da-4e52-bd4c-1af053f0a95b\" class=\"colab-df-container\">\n",
              "    <div>\n",
              "<style scoped>\n",
              "    .dataframe tbody tr th:only-of-type {\n",
              "        vertical-align: middle;\n",
              "    }\n",
              "\n",
              "    .dataframe tbody tr th {\n",
              "        vertical-align: top;\n",
              "    }\n",
              "\n",
              "    .dataframe thead th {\n",
              "        text-align: right;\n",
              "    }\n",
              "</style>\n",
              "<table border=\"1\" class=\"dataframe\">\n",
              "  <thead>\n",
              "    <tr style=\"text-align: right;\">\n",
              "      <th></th>\n",
              "      <th>Deskripsi_Kejadian</th>\n",
              "      <th>Jenis_Bullying</th>\n",
              "    </tr>\n",
              "  </thead>\n",
              "  <tbody>\n",
              "    <tr>\n",
              "      <th>0</th>\n",
              "      <td>dipukul, disundut dengan rokok, disundut pakai...</td>\n",
              "      <td>Fisik</td>\n",
              "    </tr>\n",
              "    <tr>\n",
              "      <th>1</th>\n",
              "      <td>Ketika saya jajan, saya dibuat jatuh oleh pela...</td>\n",
              "      <td>Fisik</td>\n",
              "    </tr>\n",
              "    <tr>\n",
              "      <th>2</th>\n",
              "      <td>Ketika korban sedang mengikuti lomba kemerdeka...</td>\n",
              "      <td>Fisik</td>\n",
              "    </tr>\n",
              "    <tr>\n",
              "      <th>3</th>\n",
              "      <td>Memberikan korban pukulan hingga menendang, se...</td>\n",
              "      <td>Fisik</td>\n",
              "    </tr>\n",
              "    <tr>\n",
              "      <th>4</th>\n",
              "      <td>2 pelaku memegangi kaki kucing. Kemudian pakai...</td>\n",
              "      <td>Seksual</td>\n",
              "    </tr>\n",
              "  </tbody>\n",
              "</table>\n",
              "</div>\n",
              "    <div class=\"colab-df-buttons\">\n",
              "\n",
              "  <div class=\"colab-df-container\">\n",
              "    <button class=\"colab-df-convert\" onclick=\"convertToInteractive('df-acd2c916-29da-4e52-bd4c-1af053f0a95b')\"\n",
              "            title=\"Convert this dataframe to an interactive table.\"\n",
              "            style=\"display:none;\">\n",
              "\n",
              "  <svg xmlns=\"http://www.w3.org/2000/svg\" height=\"24px\" viewBox=\"0 -960 960 960\">\n",
              "    <path d=\"M120-120v-720h720v720H120Zm60-500h600v-160H180v160Zm220 220h160v-160H400v160Zm0 220h160v-160H400v160ZM180-400h160v-160H180v160Zm440 0h160v-160H620v160ZM180-180h160v-160H180v160Zm440 0h160v-160H620v160Z\"/>\n",
              "  </svg>\n",
              "    </button>\n",
              "\n",
              "  <style>\n",
              "    .colab-df-container {\n",
              "      display:flex;\n",
              "      gap: 12px;\n",
              "    }\n",
              "\n",
              "    .colab-df-convert {\n",
              "      background-color: #E8F0FE;\n",
              "      border: none;\n",
              "      border-radius: 50%;\n",
              "      cursor: pointer;\n",
              "      display: none;\n",
              "      fill: #1967D2;\n",
              "      height: 32px;\n",
              "      padding: 0 0 0 0;\n",
              "      width: 32px;\n",
              "    }\n",
              "\n",
              "    .colab-df-convert:hover {\n",
              "      background-color: #E2EBFA;\n",
              "      box-shadow: 0px 1px 2px rgba(60, 64, 67, 0.3), 0px 1px 3px 1px rgba(60, 64, 67, 0.15);\n",
              "      fill: #174EA6;\n",
              "    }\n",
              "\n",
              "    .colab-df-buttons div {\n",
              "      margin-bottom: 4px;\n",
              "    }\n",
              "\n",
              "    [theme=dark] .colab-df-convert {\n",
              "      background-color: #3B4455;\n",
              "      fill: #D2E3FC;\n",
              "    }\n",
              "\n",
              "    [theme=dark] .colab-df-convert:hover {\n",
              "      background-color: #434B5C;\n",
              "      box-shadow: 0px 1px 3px 1px rgba(0, 0, 0, 0.15);\n",
              "      filter: drop-shadow(0px 1px 2px rgba(0, 0, 0, 0.3));\n",
              "      fill: #FFFFFF;\n",
              "    }\n",
              "  </style>\n",
              "\n",
              "    <script>\n",
              "      const buttonEl =\n",
              "        document.querySelector('#df-acd2c916-29da-4e52-bd4c-1af053f0a95b button.colab-df-convert');\n",
              "      buttonEl.style.display =\n",
              "        google.colab.kernel.accessAllowed ? 'block' : 'none';\n",
              "\n",
              "      async function convertToInteractive(key) {\n",
              "        const element = document.querySelector('#df-acd2c916-29da-4e52-bd4c-1af053f0a95b');\n",
              "        const dataTable =\n",
              "          await google.colab.kernel.invokeFunction('convertToInteractive',\n",
              "                                                    [key], {});\n",
              "        if (!dataTable) return;\n",
              "\n",
              "        const docLinkHtml = 'Like what you see? Visit the ' +\n",
              "          '<a target=\"_blank\" href=https://colab.research.google.com/notebooks/data_table.ipynb>data table notebook</a>'\n",
              "          + ' to learn more about interactive tables.';\n",
              "        element.innerHTML = '';\n",
              "        dataTable['output_type'] = 'display_data';\n",
              "        await google.colab.output.renderOutput(dataTable, element);\n",
              "        const docLink = document.createElement('div');\n",
              "        docLink.innerHTML = docLinkHtml;\n",
              "        element.appendChild(docLink);\n",
              "      }\n",
              "    </script>\n",
              "  </div>\n",
              "\n",
              "\n",
              "<div id=\"df-aaf250a8-cd40-41c4-915a-0cbf99936962\">\n",
              "  <button class=\"colab-df-quickchart\" onclick=\"quickchart('df-aaf250a8-cd40-41c4-915a-0cbf99936962')\"\n",
              "            title=\"Suggest charts\"\n",
              "            style=\"display:none;\">\n",
              "\n",
              "<svg xmlns=\"http://www.w3.org/2000/svg\" height=\"24px\"viewBox=\"0 0 24 24\"\n",
              "     width=\"24px\">\n",
              "    <g>\n",
              "        <path d=\"M19 3H5c-1.1 0-2 .9-2 2v14c0 1.1.9 2 2 2h14c1.1 0 2-.9 2-2V5c0-1.1-.9-2-2-2zM9 17H7v-7h2v7zm4 0h-2V7h2v10zm4 0h-2v-4h2v4z\"/>\n",
              "    </g>\n",
              "</svg>\n",
              "  </button>\n",
              "\n",
              "<style>\n",
              "  .colab-df-quickchart {\n",
              "      --bg-color: #E8F0FE;\n",
              "      --fill-color: #1967D2;\n",
              "      --hover-bg-color: #E2EBFA;\n",
              "      --hover-fill-color: #174EA6;\n",
              "      --disabled-fill-color: #AAA;\n",
              "      --disabled-bg-color: #DDD;\n",
              "  }\n",
              "\n",
              "  [theme=dark] .colab-df-quickchart {\n",
              "      --bg-color: #3B4455;\n",
              "      --fill-color: #D2E3FC;\n",
              "      --hover-bg-color: #434B5C;\n",
              "      --hover-fill-color: #FFFFFF;\n",
              "      --disabled-bg-color: #3B4455;\n",
              "      --disabled-fill-color: #666;\n",
              "  }\n",
              "\n",
              "  .colab-df-quickchart {\n",
              "    background-color: var(--bg-color);\n",
              "    border: none;\n",
              "    border-radius: 50%;\n",
              "    cursor: pointer;\n",
              "    display: none;\n",
              "    fill: var(--fill-color);\n",
              "    height: 32px;\n",
              "    padding: 0;\n",
              "    width: 32px;\n",
              "  }\n",
              "\n",
              "  .colab-df-quickchart:hover {\n",
              "    background-color: var(--hover-bg-color);\n",
              "    box-shadow: 0 1px 2px rgba(60, 64, 67, 0.3), 0 1px 3px 1px rgba(60, 64, 67, 0.15);\n",
              "    fill: var(--button-hover-fill-color);\n",
              "  }\n",
              "\n",
              "  .colab-df-quickchart-complete:disabled,\n",
              "  .colab-df-quickchart-complete:disabled:hover {\n",
              "    background-color: var(--disabled-bg-color);\n",
              "    fill: var(--disabled-fill-color);\n",
              "    box-shadow: none;\n",
              "  }\n",
              "\n",
              "  .colab-df-spinner {\n",
              "    border: 2px solid var(--fill-color);\n",
              "    border-color: transparent;\n",
              "    border-bottom-color: var(--fill-color);\n",
              "    animation:\n",
              "      spin 1s steps(1) infinite;\n",
              "  }\n",
              "\n",
              "  @keyframes spin {\n",
              "    0% {\n",
              "      border-color: transparent;\n",
              "      border-bottom-color: var(--fill-color);\n",
              "      border-left-color: var(--fill-color);\n",
              "    }\n",
              "    20% {\n",
              "      border-color: transparent;\n",
              "      border-left-color: var(--fill-color);\n",
              "      border-top-color: var(--fill-color);\n",
              "    }\n",
              "    30% {\n",
              "      border-color: transparent;\n",
              "      border-left-color: var(--fill-color);\n",
              "      border-top-color: var(--fill-color);\n",
              "      border-right-color: var(--fill-color);\n",
              "    }\n",
              "    40% {\n",
              "      border-color: transparent;\n",
              "      border-right-color: var(--fill-color);\n",
              "      border-top-color: var(--fill-color);\n",
              "    }\n",
              "    60% {\n",
              "      border-color: transparent;\n",
              "      border-right-color: var(--fill-color);\n",
              "    }\n",
              "    80% {\n",
              "      border-color: transparent;\n",
              "      border-right-color: var(--fill-color);\n",
              "      border-bottom-color: var(--fill-color);\n",
              "    }\n",
              "    90% {\n",
              "      border-color: transparent;\n",
              "      border-bottom-color: var(--fill-color);\n",
              "    }\n",
              "  }\n",
              "</style>\n",
              "\n",
              "  <script>\n",
              "    async function quickchart(key) {\n",
              "      const quickchartButtonEl =\n",
              "        document.querySelector('#' + key + ' button');\n",
              "      quickchartButtonEl.disabled = true;  // To prevent multiple clicks.\n",
              "      quickchartButtonEl.classList.add('colab-df-spinner');\n",
              "      try {\n",
              "        const charts = await google.colab.kernel.invokeFunction(\n",
              "            'suggestCharts', [key], {});\n",
              "      } catch (error) {\n",
              "        console.error('Error during call to suggestCharts:', error);\n",
              "      }\n",
              "      quickchartButtonEl.classList.remove('colab-df-spinner');\n",
              "      quickchartButtonEl.classList.add('colab-df-quickchart-complete');\n",
              "    }\n",
              "    (() => {\n",
              "      let quickchartButtonEl =\n",
              "        document.querySelector('#df-aaf250a8-cd40-41c4-915a-0cbf99936962 button');\n",
              "      quickchartButtonEl.style.display =\n",
              "        google.colab.kernel.accessAllowed ? 'block' : 'none';\n",
              "    })();\n",
              "  </script>\n",
              "</div>\n",
              "    </div>\n",
              "  </div>\n"
            ],
            "application/vnd.google.colaboratory.intrinsic+json": {
              "type": "dataframe",
              "variable_name": "df",
              "summary": "{\n  \"name\": \"df\",\n  \"rows\": 34,\n  \"fields\": [\n    {\n      \"column\": \"Deskripsi_Kejadian\",\n      \"properties\": {\n        \"dtype\": \"string\",\n        \"num_unique_values\": 34,\n        \"samples\": [\n          \"Korban dibanting dan ditendang berkali kali dibagian perut\",\n          \"Saya kerap dipanggil dengan nama orang tua saya, dan karya saya selalu tidak dihargai.\",\n          \"Saat itu korban datang untuk meminta tanda tangan menyelesaikan skripsi pada pelaku. Namun, pelaku memanfaatkan situasi yang sepi untuk melakukan pelecehan seksual terhadap korban.\"\n        ],\n        \"semantic_type\": \"\",\n        \"description\": \"\"\n      }\n    },\n    {\n      \"column\": \"Jenis_Bullying\",\n      \"properties\": {\n        \"dtype\": \"category\",\n        \"num_unique_values\": 4,\n        \"samples\": [\n          \"Seksual\",\n          \"Bukan Bullying\",\n          \"Fisik\"\n        ],\n        \"semantic_type\": \"\",\n        \"description\": \"\"\n      }\n    }\n  ]\n}"
            }
          },
          "metadata": {},
          "execution_count": 3
        }
      ]
    },
    {
      "cell_type": "code",
      "source": [
        "df.info"
      ],
      "metadata": {
        "colab": {
          "base_uri": "https://localhost:8080/",
          "height": 204
        },
        "id": "YtXOaOldTkDG",
        "outputId": "c21c31fd-21d7-4ffe-e60a-e1dcf2303a8c"
      },
      "execution_count": null,
      "outputs": [
        {
          "output_type": "execute_result",
          "data": {
            "text/plain": [
              "<bound method DataFrame.info of                                    Deskripsi_Kejadian  Jenis_Bullying\n",
              "0   dipukul, disundut dengan rokok, disundut pakai...           Fisik\n",
              "1   Ketika saya jajan, saya dibuat jatuh oleh pela...           Fisik\n",
              "2   Ketika korban sedang mengikuti lomba kemerdeka...           Fisik\n",
              "3   Memberikan korban pukulan hingga menendang, se...           Fisik\n",
              "4   2 pelaku memegangi kaki kucing. Kemudian pakai...         Seksual\n",
              "5   Dipukul, ditendang, karena korban mengaku masu...           Fisik\n",
              "6   Korban diperkosa dan dipaksa berhubungan sesam...         Seksual\n",
              "7   Terjadi di pondok pesantren. Pelaku mengarahka...           Fisik\n",
              "8   rambutnya dijambak, disiram air, tubuhnya diin...           Fisik\n",
              "9   Kemaluan korban dipegang-pegang. Korban disuru...         Seksual\n",
              "10  Korban hendak pergi ke masjid sekolah untuk sa...           Fisik\n",
              "11  Korban dikeroyok oleh 6 pelaku, hingga korban ...           Fisik\n",
              "12  Pelaku memukul korban dan menendang berkali-ka...           Fisik\n",
              "13  Korban dipukul dan kepalanya ditendang serta d...           Fisik\n",
              "14  Korban didorong hingga terjatuh, diseret, dan ...           Fisik\n",
              "15  Korban dibanting dan ditendang berkali kali di...           Fisik\n",
              "16  Korban dipukul pada bagian kepala, wajah, mata...           Fisik\n",
              "17  Saya dipasangkan helm oleh pelaku kemudian kep...           Fisik\n",
              "18  Saya dituduh melakukan suap agar nilai saya se...          Psikis\n",
              "19  Saya kerap dipanggil dengan nama orang tua say...          Psikis\n",
              "20  Seorang anak sd ditertawakan oleh guru dan tem...          Psikis\n",
              "21  Korban sering diejek anak yatim oleh temannya ...          Psikis\n",
              "22  Korban dijambak, diludahi, disiram air, diseka...           Fisik\n",
              "23       Sekolah memaksa siswinya menggunakan jilbab.  Bukan Bullying\n",
              "24  korban diangkat beramai-ramai kemudian dibanti...           Fisik\n",
              "25  Pelaku memukul dan menendang adik kelasnya yan...           Fisik\n",
              "26  Korban dipaksa melakukan hubungan badan, jika ...         Seksual\n",
              "27  Saat itu korban datang untuk meminta tanda tan...         Seksual\n",
              "28  Saya dipaksa guru saya untuk membersihkan toil...  Bukan Bullying\n",
              "29      Saya dimarahi guru saya karena bolos sekolah.  Bukan Bullying\n",
              "30  Saya kena hukum berdiri ditiang bendera karena...  Bukan Bullying\n",
              "31       Saya selalu beli siomay setiap jam istirahat  Bukan Bullying\n",
              "32                  Saya mengerjakan pr kemarin malam  Bukan Bullying\n",
              "33  Saya mendapatkan apresiasi karena menjuarai ol...  Bukan Bullying>"
            ],
            "text/html": [
              "<div style=\"max-width:800px; border: 1px solid var(--colab-border-color);\"><style>\n",
              "      pre.function-repr-contents {\n",
              "        overflow-x: auto;\n",
              "        padding: 8px 12px;\n",
              "        max-height: 500px;\n",
              "      }\n",
              "\n",
              "      pre.function-repr-contents.function-repr-contents-collapsed {\n",
              "        cursor: pointer;\n",
              "        max-height: 100px;\n",
              "      }\n",
              "    </style>\n",
              "    <pre style=\"white-space: initial; background:\n",
              "         var(--colab-secondary-surface-color); padding: 8px 12px;\n",
              "         border-bottom: 1px solid var(--colab-border-color);\"><b>pandas.core.frame.DataFrame.info</b><br/>def info(verbose: bool | None=None, buf: WriteBuffer[str] | None=None, max_cols: int | None=None, memory_usage: bool | str | None=None, show_counts: bool | None=None) -&gt; None</pre><pre class=\"function-repr-contents function-repr-contents-collapsed\" style=\"\"><a class=\"filepath\" style=\"display:none\" href=\"#\">/usr/local/lib/python3.10/dist-packages/pandas/core/frame.py</a>Print a concise summary of a DataFrame.\n",
              "\n",
              "This method prints information about a DataFrame including\n",
              "the index dtype and columns, non-null values and memory usage.\n",
              "\n",
              "Parameters\n",
              "----------\n",
              "verbose : bool, optional\n",
              "    Whether to print the full summary. By default, the setting in\n",
              "    ``pandas.options.display.max_info_columns`` is followed.\n",
              "buf : writable buffer, defaults to sys.stdout\n",
              "    Where to send the output. By default, the output is printed to\n",
              "    sys.stdout. Pass a writable buffer if you need to further process\n",
              "    the output.\n",
              "max_cols : int, optional\n",
              "    When to switch from the verbose to the truncated output. If the\n",
              "    DataFrame has more than `max_cols` columns, the truncated output\n",
              "    is used. By default, the setting in\n",
              "    ``pandas.options.display.max_info_columns`` is used.\n",
              "memory_usage : bool, str, optional\n",
              "    Specifies whether total memory usage of the DataFrame\n",
              "    elements (including the index) should be displayed. By default,\n",
              "    this follows the ``pandas.options.display.memory_usage`` setting.\n",
              "\n",
              "    True always show memory usage. False never shows memory usage.\n",
              "    A value of &#x27;deep&#x27; is equivalent to &quot;True with deep introspection&quot;.\n",
              "    Memory usage is shown in human-readable units (base-2\n",
              "    representation). Without deep introspection a memory estimation is\n",
              "    made based in column dtype and number of rows assuming values\n",
              "    consume the same memory amount for corresponding dtypes. With deep\n",
              "    memory introspection, a real memory usage calculation is performed\n",
              "    at the cost of computational resources. See the\n",
              "    :ref:`Frequently Asked Questions &lt;df-memory-usage&gt;` for more\n",
              "    details.\n",
              "show_counts : bool, optional\n",
              "    Whether to show the non-null counts. By default, this is shown\n",
              "    only if the DataFrame is smaller than\n",
              "    ``pandas.options.display.max_info_rows`` and\n",
              "    ``pandas.options.display.max_info_columns``. A value of True always\n",
              "    shows the counts, and False never shows the counts.\n",
              "\n",
              "Returns\n",
              "-------\n",
              "None\n",
              "    This method prints a summary of a DataFrame and returns None.\n",
              "\n",
              "See Also\n",
              "--------\n",
              "DataFrame.describe: Generate descriptive statistics of DataFrame\n",
              "    columns.\n",
              "DataFrame.memory_usage: Memory usage of DataFrame columns.\n",
              "\n",
              "Examples\n",
              "--------\n",
              "&gt;&gt;&gt; int_values = [1, 2, 3, 4, 5]\n",
              "&gt;&gt;&gt; text_values = [&#x27;alpha&#x27;, &#x27;beta&#x27;, &#x27;gamma&#x27;, &#x27;delta&#x27;, &#x27;epsilon&#x27;]\n",
              "&gt;&gt;&gt; float_values = [0.0, 0.25, 0.5, 0.75, 1.0]\n",
              "&gt;&gt;&gt; df = pd.DataFrame({&quot;int_col&quot;: int_values, &quot;text_col&quot;: text_values,\n",
              "...                   &quot;float_col&quot;: float_values})\n",
              "&gt;&gt;&gt; df\n",
              "    int_col text_col  float_col\n",
              "0        1    alpha       0.00\n",
              "1        2     beta       0.25\n",
              "2        3    gamma       0.50\n",
              "3        4    delta       0.75\n",
              "4        5  epsilon       1.00\n",
              "\n",
              "Prints information of all columns:\n",
              "\n",
              "&gt;&gt;&gt; df.info(verbose=True)\n",
              "&lt;class &#x27;pandas.core.frame.DataFrame&#x27;&gt;\n",
              "RangeIndex: 5 entries, 0 to 4\n",
              "Data columns (total 3 columns):\n",
              " #   Column     Non-Null Count  Dtype\n",
              "---  ------     --------------  -----\n",
              " 0   int_col    5 non-null      int64\n",
              " 1   text_col   5 non-null      object\n",
              " 2   float_col  5 non-null      float64\n",
              "dtypes: float64(1), int64(1), object(1)\n",
              "memory usage: 248.0+ bytes\n",
              "\n",
              "Prints a summary of columns count and its dtypes but not per column\n",
              "information:\n",
              "\n",
              "&gt;&gt;&gt; df.info(verbose=False)\n",
              "&lt;class &#x27;pandas.core.frame.DataFrame&#x27;&gt;\n",
              "RangeIndex: 5 entries, 0 to 4\n",
              "Columns: 3 entries, int_col to float_col\n",
              "dtypes: float64(1), int64(1), object(1)\n",
              "memory usage: 248.0+ bytes\n",
              "\n",
              "Pipe output of DataFrame.info to buffer instead of sys.stdout, get\n",
              "buffer content and writes to a text file:\n",
              "\n",
              "&gt;&gt;&gt; import io\n",
              "&gt;&gt;&gt; buffer = io.StringIO()\n",
              "&gt;&gt;&gt; df.info(buf=buffer)\n",
              "&gt;&gt;&gt; s = buffer.getvalue()\n",
              "&gt;&gt;&gt; with open(&quot;df_info.txt&quot;, &quot;w&quot;,\n",
              "...           encoding=&quot;utf-8&quot;) as f:  # doctest: +SKIP\n",
              "...     f.write(s)\n",
              "260\n",
              "\n",
              "The `memory_usage` parameter allows deep introspection mode, specially\n",
              "useful for big DataFrames and fine-tune memory optimization:\n",
              "\n",
              "&gt;&gt;&gt; random_strings_array = np.random.choice([&#x27;a&#x27;, &#x27;b&#x27;, &#x27;c&#x27;], 10 ** 6)\n",
              "&gt;&gt;&gt; df = pd.DataFrame({\n",
              "...     &#x27;column_1&#x27;: np.random.choice([&#x27;a&#x27;, &#x27;b&#x27;, &#x27;c&#x27;], 10 ** 6),\n",
              "...     &#x27;column_2&#x27;: np.random.choice([&#x27;a&#x27;, &#x27;b&#x27;, &#x27;c&#x27;], 10 ** 6),\n",
              "...     &#x27;column_3&#x27;: np.random.choice([&#x27;a&#x27;, &#x27;b&#x27;, &#x27;c&#x27;], 10 ** 6)\n",
              "... })\n",
              "&gt;&gt;&gt; df.info()\n",
              "&lt;class &#x27;pandas.core.frame.DataFrame&#x27;&gt;\n",
              "RangeIndex: 1000000 entries, 0 to 999999\n",
              "Data columns (total 3 columns):\n",
              " #   Column    Non-Null Count    Dtype\n",
              "---  ------    --------------    -----\n",
              " 0   column_1  1000000 non-null  object\n",
              " 1   column_2  1000000 non-null  object\n",
              " 2   column_3  1000000 non-null  object\n",
              "dtypes: object(3)\n",
              "memory usage: 22.9+ MB\n",
              "\n",
              "&gt;&gt;&gt; df.info(memory_usage=&#x27;deep&#x27;)\n",
              "&lt;class &#x27;pandas.core.frame.DataFrame&#x27;&gt;\n",
              "RangeIndex: 1000000 entries, 0 to 999999\n",
              "Data columns (total 3 columns):\n",
              " #   Column    Non-Null Count    Dtype\n",
              "---  ------    --------------    -----\n",
              " 0   column_1  1000000 non-null  object\n",
              " 1   column_2  1000000 non-null  object\n",
              " 2   column_3  1000000 non-null  object\n",
              "dtypes: object(3)\n",
              "memory usage: 165.9 MB</pre>\n",
              "      <script>\n",
              "      if (google.colab.kernel.accessAllowed && google.colab.files && google.colab.files.view) {\n",
              "        for (const element of document.querySelectorAll('.filepath')) {\n",
              "          element.style.display = 'block'\n",
              "          element.onclick = (event) => {\n",
              "            event.preventDefault();\n",
              "            event.stopPropagation();\n",
              "            google.colab.files.view(element.textContent, 3345);\n",
              "          };\n",
              "        }\n",
              "      }\n",
              "      for (const element of document.querySelectorAll('.function-repr-contents')) {\n",
              "        element.onclick = (event) => {\n",
              "          event.preventDefault();\n",
              "          event.stopPropagation();\n",
              "          element.classList.toggle('function-repr-contents-collapsed');\n",
              "        };\n",
              "      }\n",
              "      </script>\n",
              "      </div>"
            ]
          },
          "metadata": {},
          "execution_count": 4
        }
      ]
    },
    {
      "cell_type": "code",
      "source": [
        "df = df.rename(columns={'Deskripsi_Kejadian':'text','Jenis_Bullying':'sentiment'})"
      ],
      "metadata": {
        "id": "FFMXxDZlkSKQ"
      },
      "execution_count": null,
      "outputs": []
    },
    {
      "cell_type": "code",
      "source": [
        "df.duplicated().sum()"
      ],
      "metadata": {
        "colab": {
          "base_uri": "https://localhost:8080/"
        },
        "id": "uoKhHw1PkjG7",
        "outputId": "f099ac28-db11-4dba-e653-58cfa8ffe087"
      },
      "execution_count": null,
      "outputs": [
        {
          "output_type": "execute_result",
          "data": {
            "text/plain": [
              "0"
            ]
          },
          "metadata": {},
          "execution_count": 6
        }
      ]
    },
    {
      "cell_type": "code",
      "source": [
        "df = df[~df.duplicated()]\n",
        "df.info()"
      ],
      "metadata": {
        "colab": {
          "base_uri": "https://localhost:8080/"
        },
        "id": "8v-RBDhVk8L2",
        "outputId": "5dfbdfb4-b8da-45bb-81e0-260054726d5d"
      },
      "execution_count": null,
      "outputs": [
        {
          "output_type": "stream",
          "name": "stdout",
          "text": [
            "<class 'pandas.core.frame.DataFrame'>\n",
            "RangeIndex: 34 entries, 0 to 33\n",
            "Data columns (total 2 columns):\n",
            " #   Column     Non-Null Count  Dtype \n",
            "---  ------     --------------  ----- \n",
            " 0   text       34 non-null     object\n",
            " 1   sentiment  34 non-null     object\n",
            "dtypes: object(2)\n",
            "memory usage: 672.0+ bytes\n"
          ]
        }
      ]
    },
    {
      "cell_type": "code",
      "source": [
        "# Mencari nilai null\n",
        "null_values = df[df.isnull().any(axis=1)]\n",
        "\n",
        "# Mencari baris duplikat\n",
        "duplicate_rows = df[df.duplicated()]"
      ],
      "metadata": {
        "id": "DRmSBpSL_x9M"
      },
      "execution_count": null,
      "outputs": []
    },
    {
      "cell_type": "code",
      "source": [
        "df.sentiment.value_counts()"
      ],
      "metadata": {
        "colab": {
          "base_uri": "https://localhost:8080/"
        },
        "id": "ozWXUD4hk_xt",
        "outputId": "cff7b82d-d920-4c29-9664-afe4125667b6"
      },
      "execution_count": null,
      "outputs": [
        {
          "output_type": "execute_result",
          "data": {
            "text/plain": [
              "sentiment\n",
              "Fisik             18\n",
              "Bukan Bullying     7\n",
              "Seksual            5\n",
              "Psikis             4\n",
              "Name: count, dtype: int64"
            ]
          },
          "metadata": {},
          "execution_count": 9
        }
      ]
    },
    {
      "cell_type": "code",
      "source": [
        "def conf_matrix(y,y_pred,title,labels):\n",
        "    fig , ax = plt.subplots(figsize=(7.5,7.5))\n",
        "    ax = sns.heatmap(confusion_matrix(y,y_pred),annot=True,cmap='Purples',fmt='g', cbar=False, annot_kws={\"size\":30})\n",
        "    plt.title(title,fontsize=25)\n",
        "    ax.xaxis.set_ticklabels(labels,fontsize=16)\n",
        "    ax.yaxis.set_ticklabels(labels, fontsize=14.5)\n",
        "    ax.set_ylabel('Test',fontsize=25)\n",
        "    ax.set_xlabel('Predicted',fontsize=25)\n",
        "    plt.show()"
      ],
      "metadata": {
        "id": "BnHmk0H87CD9"
      },
      "execution_count": null,
      "outputs": []
    },
    {
      "cell_type": "code",
      "source": [
        "##CUSTOM DEFINED FUNCTIONS TO CLEAN THE Text\n",
        "\n",
        "#Remove punctuations, links, stopwords, mentions and \\r\\n new line characters\n",
        "def strip_all_entities(text):\n",
        "    text = text.replace('\\r',' ').replace('\\n',' ').lower() #remove \\n and \\r and lowercase\n",
        "    text = re.sub(r\"(?:\\@|https?\\://)\\S+\",\"\",text) #remove links and mentions\n",
        "    text = re.sub(r'[^\\x00-\\x7f]',r'',text) #remove non utf8/ascii characters such as '\\x9a\\x91\\x97\\x9a\\x97'\n",
        "    banned_list = string.punctuation\n",
        "    table = str.maketrans('','',banned_list)\n",
        "    text = text.translate(table)\n",
        "    text = [word for word in text.split() if word not in stop_words]\n",
        "    text = ' '.join(text)\n",
        "    text = ' '.join(word for word in text.split() if len(word)<14) # remove words longer than 14 characters\n",
        "    return text\n",
        "\n",
        "#remove contractions\n",
        "def decontract(text):\n",
        "    text = re.sub(r\"can\\'t\",\"can not\",text)\n",
        "    text = re.sub(r\"n\\'t\",\" not\",text)\n",
        "    text = re.sub(r\"\\'re\",\" are\",text)\n",
        "    text = re.sub(r\"\\'s\", \" is\", text)\n",
        "    text = re.sub(r\"\\'d\", \" would\", text)\n",
        "    text = re.sub(r\"\\'ll\", \" will\", text)\n",
        "    text = re.sub(r\"\\'t\", \" not\", text)\n",
        "    text = re.sub(r\"\\'ve\", \" have\", text)\n",
        "    text = re.sub(r\"\\'m\", \" am\", text)\n",
        "    return text\n",
        "\n",
        "#clean hashtags at the end of the sentence, and keep those in the middle of the sentence by removing just the \"#\" symbol\n",
        "def clean_hashtags(text):\n",
        "    new_text = \" \".join(word.strip() for word in re.split('#(?!(?:hashtag)\\b)[\\w-]+(?=(?:\\s+#[\\w-]+)*\\s*$)', text)) #remove last hashtags\n",
        "    new_text2 = \" \".join(word.strip() for word in re.split('#|_', new_text)) #remove hashtags symbol from words in the middle of the sentence\n",
        "    return new_text2\n",
        "\n",
        "\n",
        "#Filter special characters such as \"&\" and \"$\" present in some words\n",
        "def filter_chars(a):\n",
        "    sent=[]\n",
        "    for word in a.split(' '):\n",
        "        if ('$' in word) | ('&' in word):\n",
        "            sent.append('')\n",
        "        else:\n",
        "            sent.append(word)\n",
        "    return ' '.join(sent)\n",
        "\n",
        "#Remove multiple sequential spaces\n",
        "def remove_mult_spaces(text):\n",
        "    return re.sub(\"\\s\\s+\",\" \",text)\n",
        "\n",
        "#Stemming\n",
        "def stemmer(text):\n",
        "    tokenized = nltk.word_tokenize(text)\n",
        "    ps = PorterStemmer()\n",
        "    return ' '.join([ps.stem(words) for words in tokenized])\n",
        "\n",
        "#Lemmatization\n",
        "#NOTE:Stemming seems to work better for this dataset\n",
        "def lemmatize(text):\n",
        "    tokenized = nltk.word_tokenize(text)\n",
        "    lm = WordNetLemmatizer()\n",
        "    return ' '.join([lm.lemmatize(words) for words in tokenized])\n",
        "\n",
        "#Then we apply all the defined functions in the following order\n",
        "def deep_clean(text):\n",
        "    text = decontract(text)\n",
        "    text = strip_all_entities(text)\n",
        "    text = clean_hashtags(text)\n",
        "    text = filter_chars(text)\n",
        "    text = remove_mult_spaces(text)\n",
        "    text = stemmer(text)\n",
        "    return text"
      ],
      "metadata": {
        "id": "sFqgcqB-91Jy"
      },
      "execution_count": null,
      "outputs": []
    },
    {
      "cell_type": "code",
      "source": [
        "df['text'] = df['text'].astype(str)\n",
        "\n",
        "texts_new = []\n",
        "for t in df.text:\n",
        "    texts_new.append(deep_clean(t))"
      ],
      "metadata": {
        "id": "57KyLepy_BOW"
      },
      "execution_count": null,
      "outputs": []
    },
    {
      "cell_type": "code",
      "source": [
        "df['text_clean'] = texts_new"
      ],
      "metadata": {
        "id": "JxDMK3pH_2Ud"
      },
      "execution_count": null,
      "outputs": []
    },
    {
      "cell_type": "code",
      "source": [
        "# Are there duplicate tweets after the cleaning?\n",
        "print(df.shape)\n",
        "print(df[\"text_clean\"].duplicated().sum())\n",
        "# There are around 3000 duplicated tweets, we will remove them.\n",
        "df.drop_duplicates('text_clean',inplace=True)\n",
        "df.shape"
      ],
      "metadata": {
        "id": "4uAP1-Cy_4mK",
        "colab": {
          "base_uri": "https://localhost:8080/"
        },
        "outputId": "f095ac17-e3c7-4c23-a0be-8ae64fdc1391"
      },
      "execution_count": null,
      "outputs": [
        {
          "output_type": "stream",
          "name": "stdout",
          "text": [
            "(34, 3)\n",
            "0\n"
          ]
        },
        {
          "output_type": "execute_result",
          "data": {
            "text/plain": [
              "(34, 3)"
            ]
          },
          "metadata": {},
          "execution_count": 14
        }
      ]
    },
    {
      "cell_type": "code",
      "source": [
        "# We removed the duplicated cleaned. How is the class balance after the cleaning?\n",
        "df.sentiment.value_counts()"
      ],
      "metadata": {
        "id": "MlG7V9Rm_8Jg",
        "colab": {
          "base_uri": "https://localhost:8080/"
        },
        "outputId": "39219403-2034-48d2-a19a-04ba4b5213e6"
      },
      "execution_count": null,
      "outputs": [
        {
          "output_type": "execute_result",
          "data": {
            "text/plain": [
              "sentiment\n",
              "Fisik             18\n",
              "Bukan Bullying     7\n",
              "Seksual            5\n",
              "Psikis             4\n",
              "Name: count, dtype: int64"
            ]
          },
          "metadata": {},
          "execution_count": 15
        }
      ]
    },
    {
      "cell_type": "code",
      "source": [
        "sentiments = [\"Fisik\",\"Psikis\",\"Seksual\",\"Bukan Bullying\"]"
      ],
      "metadata": {
        "id": "JDtMN7ZIAt74"
      },
      "execution_count": null,
      "outputs": []
    },
    {
      "cell_type": "code",
      "source": [
        "text_len = []\n",
        "for text in df.text_clean:\n",
        "    tweet_len = len(text.split())\n",
        "    text_len.append(tweet_len)\n",
        "\n",
        "\n",
        "df['text_len'] = text_len"
      ],
      "metadata": {
        "id": "Ij4jo0elBx8f"
      },
      "execution_count": null,
      "outputs": []
    },
    {
      "cell_type": "code",
      "source": [
        "plt.figure(figsize=(7,5))\n",
        "ax= sns.countplot(x='text_len',data=df[df['text_len']<10],palette='mako')\n",
        "plt.title('Count of Kejadian with less than 10 words',fontsize=20)\n",
        "plt.yticks([])\n",
        "ax.bar_label(ax.containers[0])\n",
        "plt.ylabel('count')\n",
        "plt.xlabel('')\n",
        "plt.show()"
      ],
      "metadata": {
        "id": "T3O-xuzCB0nh",
        "colab": {
          "base_uri": "https://localhost:8080/",
          "height": 613
        },
        "outputId": "e27e62fc-be1d-4b05-8712-1ebd25893b5a"
      },
      "execution_count": null,
      "outputs": [
        {
          "output_type": "stream",
          "name": "stderr",
          "text": [
            "<ipython-input-18-15ef5767ec65>:2: FutureWarning: \n",
            "\n",
            "Passing `palette` without assigning `hue` is deprecated and will be removed in v0.14.0. Assign the `x` variable to `hue` and set `legend=False` for the same effect.\n",
            "\n",
            "  ax= sns.countplot(x='text_len',data=df[df['text_len']<10],palette='mako')\n"
          ]
        },
        {
          "output_type": "display_data",
          "data": {
            "text/plain": [
              "<Figure size 700x500 with 1 Axes>"
            ],
            "image/png": "[encoded data removed]"
          },
          "metadata": {}
        }
      ]
    },
    {
      "cell_type": "code",
      "source": [
        "plt.figure(figsize=(20,5))\n",
        "ax = sns.countplot(x='text_len',data=df, palette='Blues_r')\n",
        "plt.title('Count of tweets with high number of words', fontsize=25)\n",
        "plt.yticks([])\n",
        "ax.bar_label(ax.containers[0])\n",
        "plt.ylabel('count')\n",
        "plt.xlabel('')\n",
        "plt.show()"
      ],
      "metadata": {
        "id": "BK2GJviIB9N_",
        "colab": {
          "base_uri": "https://localhost:8080/",
          "height": 343
        },
        "outputId": "8665d0f1-276d-4fdd-e1dd-b7d2477e8387"
      },
      "execution_count": null,
      "outputs": [
        {
          "output_type": "stream",
          "name": "stderr",
          "text": [
            "<ipython-input-19-e221a0a1836a>:2: FutureWarning: \n",
            "\n",
            "Passing `palette` without assigning `hue` is deprecated and will be removed in v0.14.0. Assign the `x` variable to `hue` and set `legend=False` for the same effect.\n",
            "\n",
            "  ax = sns.countplot(x='text_len',data=df, palette='Blues_r')\n"
          ]
        },
        {
          "output_type": "display_data",
          "data": {
            "text/plain": [
              "<Figure size 2000x500 with 1 Axes>"
            ],
            "image/png": "[encoded data removed]"
          },
          "metadata": {}
        }
      ]
    },
    {
      "cell_type": "code",
      "source": [
        "df = df[(df['text_len']>0)&(df['text_len']<100)]"
      ],
      "metadata": {
        "id": "h5FXarBnCANL"
      },
      "execution_count": null,
      "outputs": []
    },
    {
      "cell_type": "code",
      "source": [
        "max_len = np.max(df['text_len'])\n",
        "max_len"
      ],
      "metadata": {
        "id": "06w9-F9jCCgS",
        "colab": {
          "base_uri": "https://localhost:8080/"
        },
        "outputId": "eb190f0a-e13a-44b4-8b8b-f125b55dc273"
      },
      "execution_count": null,
      "outputs": [
        {
          "output_type": "execute_result",
          "data": {
            "text/plain": [
              "25"
            ]
          },
          "metadata": {},
          "execution_count": 21
        }
      ]
    },
    {
      "cell_type": "code",
      "source": [
        "df.sort_values(by=[\"text_len\"], ascending=False)"
      ],
      "metadata": {
        "id": "mXTvfnQjCEyi",
        "colab": {
          "base_uri": "https://localhost:8080/",
          "height": 1000
        },
        "outputId": "d11210e8-cf50-4486-b3c0-a3da85f3c402"
      },
      "execution_count": null,
      "outputs": [
        {
          "output_type": "execute_result",
          "data": {
            "text/plain": [
              "                                                 text       sentiment  \\\n",
              "10  Korban hendak pergi ke masjid sekolah untuk sa...           Fisik   \n",
              "2   Ketika korban sedang mengikuti lomba kemerdeka...           Fisik   \n",
              "7   Terjadi di pondok pesantren. Pelaku mengarahka...           Fisik   \n",
              "1   Ketika saya jajan, saya dibuat jatuh oleh pela...           Fisik   \n",
              "4   2 pelaku memegangi kaki kucing. Kemudian pakai...         Seksual   \n",
              "0   dipukul, disundut dengan rokok, disundut pakai...           Fisik   \n",
              "27  Saat itu korban datang untuk meminta tanda tan...         Seksual   \n",
              "22  Korban dijambak, diludahi, disiram air, diseka...           Fisik   \n",
              "9   Kemaluan korban dipegang-pegang. Korban disuru...         Seksual   \n",
              "3   Memberikan korban pukulan hingga menendang, se...           Fisik   \n",
              "20  Seorang anak sd ditertawakan oleh guru dan tem...          Psikis   \n",
              "14  Korban didorong hingga terjatuh, diseret, dan ...           Fisik   \n",
              "8   rambutnya dijambak, disiram air, tubuhnya diin...           Fisik   \n",
              "17  Saya dipasangkan helm oleh pelaku kemudian kep...           Fisik   \n",
              "11  Korban dikeroyok oleh 6 pelaku, hingga korban ...           Fisik   \n",
              "19  Saya kerap dipanggil dengan nama orang tua say...          Psikis   \n",
              "15  Korban dibanting dan ditendang berkali kali di...           Fisik   \n",
              "24  korban diangkat beramai-ramai kemudian dibanti...           Fisik   \n",
              "16  Korban dipukul pada bagian kepala, wajah, mata...           Fisik   \n",
              "12  Pelaku memukul korban dan menendang berkali-ka...           Fisik   \n",
              "18  Saya dituduh melakukan suap agar nilai saya se...          Psikis   \n",
              "21  Korban sering diejek anak yatim oleh temannya ...          Psikis   \n",
              "6   Korban diperkosa dan dipaksa berhubungan sesam...         Seksual   \n",
              "30  Saya kena hukum berdiri ditiang bendera karena...  Bukan Bullying   \n",
              "25  Pelaku memukul dan menendang adik kelasnya yan...           Fisik   \n",
              "26  Korban dipaksa melakukan hubungan badan, jika ...         Seksual   \n",
              "5   Dipukul, ditendang, karena korban mengaku masu...           Fisik   \n",
              "28  Saya dipaksa guru saya untuk membersihkan toil...  Bukan Bullying   \n",
              "13  Korban dipukul dan kepalanya ditendang serta d...           Fisik   \n",
              "29      Saya dimarahi guru saya karena bolos sekolah.  Bukan Bullying   \n",
              "23       Sekolah memaksa siswinya menggunakan jilbab.  Bukan Bullying   \n",
              "31       Saya selalu beli siomay setiap jam istirahat  Bukan Bullying   \n",
              "32                  Saya mengerjakan pr kemarin malam  Bukan Bullying   \n",
              "33  Saya mendapatkan apresiasi karena menjuarai ol...  Bukan Bullying   \n",
              "\n",
              "                                           text_clean  text_len  \n",
              "10  korban pergi masjid sekolah salat zuhur tibati...        25  \n",
              "2   korban mengikuti lomba kemerdekaan ditarik kak...        24  \n",
              "7   pondok pesantren pelaku mengarahkan setrika ua...        20  \n",
              "1   jajan jatuh pelaku sengaja menjulurkan kakinya...        16  \n",
              "4   2 pelaku memegangi kaki kuce pakaian si anak d...        15  \n",
              "0   dipukul disundut rokok disundut pakai korek ap...        13  \n",
              "27  korban tanda tangan menyelesaikan skripsi pela...        13  \n",
              "22  korban dijambak diludahi disiram air disekap d...        13  \n",
              "9   kemaluan korban korban disuruh buka celana nun...        11  \n",
              "3   korban pukulan menendang sembari memaki korban...        10  \n",
              "20  anak sd ditertawakan guru teman temannya memba...        10  \n",
              "14  korban didorong terjatuh diseret dada ditusuk ...         9  \n",
              "8   rambutnya dijambak disiram air tubuhnya diinja...         9  \n",
              "17  dipasangkan helm pelaku kepala ditendang berga...         8  \n",
              "11  korban dikeroyok 6 pelaku korban mengalami tra...         8  \n",
              "19      kerap dipanggil nama orang tua karya dihargai         7  \n",
              "15  korban dibant ditendang berkali kali dibagian ...         7  \n",
              "24    korban diangkat beramairamai dibant lantai pave         6  \n",
              "16             korban dipukul kepala wajah mata badan         6  \n",
              "12  pelaku memukul korban menendang berkalikali te...         6  \n",
              "18                dituduh suap nilai guru teman teman         6  \n",
              "21            korban diejek anak yatim temannya kesal         6  \n",
              "6      korban diperkosa dipaksa berhubungan jeni lgbt         6  \n",
              "30              kena hukum berdiri ditiang bendera pr         6  \n",
              "25  pelaku memukul menendang adik kelasnya disabilita         6  \n",
              "26       korban dipaksa hubungan badan nilainya jelek         6  \n",
              "5         dipukul ditendang korban mengaku masuk geng         6  \n",
              "28                dipaksa guru membersihkan toilet pr         5  \n",
              "13     korban dipukul kepalanya ditendang dismackdown         5  \n",
              "29                         dimarahi guru bolo sekolah         4  \n",
              "23                    sekolah memaksa siswinya jilbab         4  \n",
              "31                          beli siomay jam istirahat         4  \n",
              "32                                   pr kemarin malam         3  \n",
              "33                       apresiasi menjuarai olimpiad         3  "
            ],
            "text/html": [
              "\n",
              "  <div id=\"df-6dd8a4fe-ade1-4ca1-918d-9744a6577108\" class=\"colab-df-container\">\n",
              "    <div>\n",
              "<style scoped>\n",
              "    .dataframe tbody tr th:only-of-type {\n",
              "        vertical-align: middle;\n",
              "    }\n",
              "\n",
              "    .dataframe tbody tr th {\n",
              "        vertical-align: top;\n",
              "    }\n",
              "\n",
              "    .dataframe thead th {\n",
              "        text-align: right;\n",
              "    }\n",
              "</style>\n",
              "<table border=\"1\" class=\"dataframe\">\n",
              "  <thead>\n",
              "    <tr style=\"text-align: right;\">\n",
              "      <th></th>\n",
              "      <th>text</th>\n",
              "      <th>sentiment</th>\n",
              "      <th>text_clean</th>\n",
              "      <th>text_len</th>\n",
              "    </tr>\n",
              "  </thead>\n",
              "  <tbody>\n",
              "    <tr>\n",
              "      <th>10</th>\n",
              "      <td>Korban hendak pergi ke masjid sekolah untuk sa...</td>\n",
              "      <td>Fisik</td>\n",
              "      <td>korban pergi masjid sekolah salat zuhur tibati...</td>\n",
              "      <td>25</td>\n",
              "    </tr>\n",
              "    <tr>\n",
              "      <th>2</th>\n",
              "      <td>Ketika korban sedang mengikuti lomba kemerdeka...</td>\n",
              "      <td>Fisik</td>\n",
              "      <td>korban mengikuti lomba kemerdekaan ditarik kak...</td>\n",
              "      <td>24</td>\n",
              "    </tr>\n",
              "    <tr>\n",
              "      <th>7</th>\n",
              "      <td>Terjadi di pondok pesantren. Pelaku mengarahka...</td>\n",
              "      <td>Fisik</td>\n",
              "      <td>pondok pesantren pelaku mengarahkan setrika ua...</td>\n",
              "      <td>20</td>\n",
              "    </tr>\n",
              "    <tr>\n",
              "      <th>1</th>\n",
              "      <td>Ketika saya jajan, saya dibuat jatuh oleh pela...</td>\n",
              "      <td>Fisik</td>\n",
              "      <td>jajan jatuh pelaku sengaja menjulurkan kakinya...</td>\n",
              "      <td>16</td>\n",
              "    </tr>\n",
              "    <tr>\n",
              "      <th>4</th>\n",
              "      <td>2 pelaku memegangi kaki kucing. Kemudian pakai...</td>\n",
              "      <td>Seksual</td>\n",
              "      <td>2 pelaku memegangi kaki kuce pakaian si anak d...</td>\n",
              "      <td>15</td>\n",
              "    </tr>\n",
              "    <tr>\n",
              "      <th>0</th>\n",
              "      <td>dipukul, disundut dengan rokok, disundut pakai...</td>\n",
              "      <td>Fisik</td>\n",
              "      <td>dipukul disundut rokok disundut pakai korek ap...</td>\n",
              "      <td>13</td>\n",
              "    </tr>\n",
              "    <tr>\n",
              "      <th>27</th>\n",
              "      <td>Saat itu korban datang untuk meminta tanda tan...</td>\n",
              "      <td>Seksual</td>\n",
              "      <td>korban tanda tangan menyelesaikan skripsi pela...</td>\n",
              "      <td>13</td>\n",
              "    </tr>\n",
              "    <tr>\n",
              "      <th>22</th>\n",
              "      <td>Korban dijambak, diludahi, disiram air, diseka...</td>\n",
              "      <td>Fisik</td>\n",
              "      <td>korban dijambak diludahi disiram air disekap d...</td>\n",
              "      <td>13</td>\n",
              "    </tr>\n",
              "    <tr>\n",
              "      <th>9</th>\n",
              "      <td>Kemaluan korban dipegang-pegang. Korban disuru...</td>\n",
              "      <td>Seksual</td>\n",
              "      <td>kemaluan korban korban disuruh buka celana nun...</td>\n",
              "      <td>11</td>\n",
              "    </tr>\n",
              "    <tr>\n",
              "      <th>3</th>\n",
              "      <td>Memberikan korban pukulan hingga menendang, se...</td>\n",
              "      <td>Fisik</td>\n",
              "      <td>korban pukulan menendang sembari memaki korban...</td>\n",
              "      <td>10</td>\n",
              "    </tr>\n",
              "    <tr>\n",
              "      <th>20</th>\n",
              "      <td>Seorang anak sd ditertawakan oleh guru dan tem...</td>\n",
              "      <td>Psikis</td>\n",
              "      <td>anak sd ditertawakan guru teman temannya memba...</td>\n",
              "      <td>10</td>\n",
              "    </tr>\n",
              "    <tr>\n",
              "      <th>14</th>\n",
              "      <td>Korban didorong hingga terjatuh, diseret, dan ...</td>\n",
              "      <td>Fisik</td>\n",
              "      <td>korban didorong terjatuh diseret dada ditusuk ...</td>\n",
              "      <td>9</td>\n",
              "    </tr>\n",
              "    <tr>\n",
              "      <th>8</th>\n",
              "      <td>rambutnya dijambak, disiram air, tubuhnya diin...</td>\n",
              "      <td>Fisik</td>\n",
              "      <td>rambutnya dijambak disiram air tubuhnya diinja...</td>\n",
              "      <td>9</td>\n",
              "    </tr>\n",
              "    <tr>\n",
              "      <th>17</th>\n",
              "      <td>Saya dipasangkan helm oleh pelaku kemudian kep...</td>\n",
              "      <td>Fisik</td>\n",
              "      <td>dipasangkan helm pelaku kepala ditendang berga...</td>\n",
              "      <td>8</td>\n",
              "    </tr>\n",
              "    <tr>\n",
              "      <th>11</th>\n",
              "      <td>Korban dikeroyok oleh 6 pelaku, hingga korban ...</td>\n",
              "      <td>Fisik</td>\n",
              "      <td>korban dikeroyok 6 pelaku korban mengalami tra...</td>\n",
              "      <td>8</td>\n",
              "    </tr>\n",
              "    <tr>\n",
              "      <th>19</th>\n",
              "      <td>Saya kerap dipanggil dengan nama orang tua say...</td>\n",
              "      <td>Psikis</td>\n",
              "      <td>kerap dipanggil nama orang tua karya dihargai</td>\n",
              "      <td>7</td>\n",
              "    </tr>\n",
              "    <tr>\n",
              "      <th>15</th>\n",
              "      <td>Korban dibanting dan ditendang berkali kali di...</td>\n",
              "      <td>Fisik</td>\n",
              "      <td>korban dibant ditendang berkali kali dibagian ...</td>\n",
              "      <td>7</td>\n",
              "    </tr>\n",
              "    <tr>\n",
              "      <th>24</th>\n",
              "      <td>korban diangkat beramai-ramai kemudian dibanti...</td>\n",
              "      <td>Fisik</td>\n",
              "      <td>korban diangkat beramairamai dibant lantai pave</td>\n",
              "      <td>6</td>\n",
              "    </tr>\n",
              "    <tr>\n",
              "      <th>16</th>\n",
              "      <td>Korban dipukul pada bagian kepala, wajah, mata...</td>\n",
              "      <td>Fisik</td>\n",
              "      <td>korban dipukul kepala wajah mata badan</td>\n",
              "      <td>6</td>\n",
              "    </tr>\n",
              "    <tr>\n",
              "      <th>12</th>\n",
              "      <td>Pelaku memukul korban dan menendang berkali-ka...</td>\n",
              "      <td>Fisik</td>\n",
              "      <td>pelaku memukul korban menendang berkalikali te...</td>\n",
              "      <td>6</td>\n",
              "    </tr>\n",
              "    <tr>\n",
              "      <th>18</th>\n",
              "      <td>Saya dituduh melakukan suap agar nilai saya se...</td>\n",
              "      <td>Psikis</td>\n",
              "      <td>dituduh suap nilai guru teman teman</td>\n",
              "      <td>6</td>\n",
              "    </tr>\n",
              "    <tr>\n",
              "      <th>21</th>\n",
              "      <td>Korban sering diejek anak yatim oleh temannya ...</td>\n",
              "      <td>Psikis</td>\n",
              "      <td>korban diejek anak yatim temannya kesal</td>\n",
              "      <td>6</td>\n",
              "    </tr>\n",
              "    <tr>\n",
              "      <th>6</th>\n",
              "      <td>Korban diperkosa dan dipaksa berhubungan sesam...</td>\n",
              "      <td>Seksual</td>\n",
              "      <td>korban diperkosa dipaksa berhubungan jeni lgbt</td>\n",
              "      <td>6</td>\n",
              "    </tr>\n",
              "    <tr>\n",
              "      <th>30</th>\n",
              "      <td>Saya kena hukum berdiri ditiang bendera karena...</td>\n",
              "      <td>Bukan Bullying</td>\n",
              "      <td>kena hukum berdiri ditiang bendera pr</td>\n",
              "      <td>6</td>\n",
              "    </tr>\n",
              "    <tr>\n",
              "      <th>25</th>\n",
              "      <td>Pelaku memukul dan menendang adik kelasnya yan...</td>\n",
              "      <td>Fisik</td>\n",
              "      <td>pelaku memukul menendang adik kelasnya disabilita</td>\n",
              "      <td>6</td>\n",
              "    </tr>\n",
              "    <tr>\n",
              "      <th>26</th>\n",
              "      <td>Korban dipaksa melakukan hubungan badan, jika ...</td>\n",
              "      <td>Seksual</td>\n",
              "      <td>korban dipaksa hubungan badan nilainya jelek</td>\n",
              "      <td>6</td>\n",
              "    </tr>\n",
              "    <tr>\n",
              "      <th>5</th>\n",
              "      <td>Dipukul, ditendang, karena korban mengaku masu...</td>\n",
              "      <td>Fisik</td>\n",
              "      <td>dipukul ditendang korban mengaku masuk geng</td>\n",
              "      <td>6</td>\n",
              "    </tr>\n",
              "    <tr>\n",
              "      <th>28</th>\n",
              "      <td>Saya dipaksa guru saya untuk membersihkan toil...</td>\n",
              "      <td>Bukan Bullying</td>\n",
              "      <td>dipaksa guru membersihkan toilet pr</td>\n",
              "      <td>5</td>\n",
              "    </tr>\n",
              "    <tr>\n",
              "      <th>13</th>\n",
              "      <td>Korban dipukul dan kepalanya ditendang serta d...</td>\n",
              "      <td>Fisik</td>\n",
              "      <td>korban dipukul kepalanya ditendang dismackdown</td>\n",
              "      <td>5</td>\n",
              "    </tr>\n",
              "    <tr>\n",
              "      <th>29</th>\n",
              "      <td>Saya dimarahi guru saya karena bolos sekolah.</td>\n",
              "      <td>Bukan Bullying</td>\n",
              "      <td>dimarahi guru bolo sekolah</td>\n",
              "      <td>4</td>\n",
              "    </tr>\n",
              "    <tr>\n",
              "      <th>23</th>\n",
              "      <td>Sekolah memaksa siswinya menggunakan jilbab.</td>\n",
              "      <td>Bukan Bullying</td>\n",
              "      <td>sekolah memaksa siswinya jilbab</td>\n",
              "      <td>4</td>\n",
              "    </tr>\n",
              "    <tr>\n",
              "      <th>31</th>\n",
              "      <td>Saya selalu beli siomay setiap jam istirahat</td>\n",
              "      <td>Bukan Bullying</td>\n",
              "      <td>beli siomay jam istirahat</td>\n",
              "      <td>4</td>\n",
              "    </tr>\n",
              "    <tr>\n",
              "      <th>32</th>\n",
              "      <td>Saya mengerjakan pr kemarin malam</td>\n",
              "      <td>Bukan Bullying</td>\n",
              "      <td>pr kemarin malam</td>\n",
              "      <td>3</td>\n",
              "    </tr>\n",
              "    <tr>\n",
              "      <th>33</th>\n",
              "      <td>Saya mendapatkan apresiasi karena menjuarai ol...</td>\n",
              "      <td>Bukan Bullying</td>\n",
              "      <td>apresiasi menjuarai olimpiad</td>\n",
              "      <td>3</td>\n",
              "    </tr>\n",
              "  </tbody>\n",
              "</table>\n",
              "</div>\n",
              "    <div class=\"colab-df-buttons\">\n",
              "\n",
              "  <div class=\"colab-df-container\">\n",
              "    <button class=\"colab-df-convert\" onclick=\"convertToInteractive('df-6dd8a4fe-ade1-4ca1-918d-9744a6577108')\"\n",
              "            title=\"Convert this dataframe to an interactive table.\"\n",
              "            style=\"display:none;\">\n",
              "\n",
              "  <svg xmlns=\"http://www.w3.org/2000/svg\" height=\"24px\" viewBox=\"0 -960 960 960\">\n",
              "    <path d=\"M120-120v-720h720v720H120Zm60-500h600v-160H180v160Zm220 220h160v-160H400v160Zm0 220h160v-160H400v160ZM180-400h160v-160H180v160Zm440 0h160v-160H620v160ZM180-180h160v-160H180v160Zm440 0h160v-160H620v160Z\"/>\n",
              "  </svg>\n",
              "    </button>\n",
              "\n",
              "  <style>\n",
              "    .colab-df-container {\n",
              "      display:flex;\n",
              "      gap: 12px;\n",
              "    }\n",
              "\n",
              "    .colab-df-convert {\n",
              "      background-color: #E8F0FE;\n",
              "      border: none;\n",
              "      border-radius: 50%;\n",
              "      cursor: pointer;\n",
              "      display: none;\n",
              "      fill: #1967D2;\n",
              "      height: 32px;\n",
              "      padding: 0 0 0 0;\n",
              "      width: 32px;\n",
              "    }\n",
              "\n",
              "    .colab-df-convert:hover {\n",
              "      background-color: #E2EBFA;\n",
              "      box-shadow: 0px 1px 2px rgba(60, 64, 67, 0.3), 0px 1px 3px 1px rgba(60, 64, 67, 0.15);\n",
              "      fill: #174EA6;\n",
              "    }\n",
              "\n",
              "    .colab-df-buttons div {\n",
              "      margin-bottom: 4px;\n",
              "    }\n",
              "\n",
              "    [theme=dark] .colab-df-convert {\n",
              "      background-color: #3B4455;\n",
              "      fill: #D2E3FC;\n",
              "    }\n",
              "\n",
              "    [theme=dark] .colab-df-convert:hover {\n",
              "      background-color: #434B5C;\n",
              "      box-shadow: 0px 1px 3px 1px rgba(0, 0, 0, 0.15);\n",
              "      filter: drop-shadow(0px 1px 2px rgba(0, 0, 0, 0.3));\n",
              "      fill: #FFFFFF;\n",
              "    }\n",
              "  </style>\n",
              "\n",
              "    <script>\n",
              "      const buttonEl =\n",
              "        document.querySelector('#df-6dd8a4fe-ade1-4ca1-918d-9744a6577108 button.colab-df-convert');\n",
              "      buttonEl.style.display =\n",
              "        google.colab.kernel.accessAllowed ? 'block' : 'none';\n",
              "\n",
              "      async function convertToInteractive(key) {\n",
              "        const element = document.querySelector('#df-6dd8a4fe-ade1-4ca1-918d-9744a6577108');\n",
              "        const dataTable =\n",
              "          await google.colab.kernel.invokeFunction('convertToInteractive',\n",
              "                                                    [key], {});\n",
              "        if (!dataTable) return;\n",
              "\n",
              "        const docLinkHtml = 'Like what you see? Visit the ' +\n",
              "          '<a target=\"_blank\" href=https://colab.research.google.com/notebooks/data_table.ipynb>data table notebook</a>'\n",
              "          + ' to learn more about interactive tables.';\n",
              "        element.innerHTML = '';\n",
              "        dataTable['output_type'] = 'display_data';\n",
              "        await google.colab.output.renderOutput(dataTable, element);\n",
              "        const docLink = document.createElement('div');\n",
              "        docLink.innerHTML = docLinkHtml;\n",
              "        element.appendChild(docLink);\n",
              "      }\n",
              "    </script>\n",
              "  </div>\n",
              "\n",
              "\n",
              "<div id=\"df-1624a877-0776-455c-904a-3078ba825a54\">\n",
              "  <button class=\"colab-df-quickchart\" onclick=\"quickchart('df-1624a877-0776-455c-904a-3078ba825a54')\"\n",
              "            title=\"Suggest charts\"\n",
              "            style=\"display:none;\">\n",
              "\n",
              "<svg xmlns=\"http://www.w3.org/2000/svg\" height=\"24px\"viewBox=\"0 0 24 24\"\n",
              "     width=\"24px\">\n",
              "    <g>\n",
              "        <path d=\"M19 3H5c-1.1 0-2 .9-2 2v14c0 1.1.9 2 2 2h14c1.1 0 2-.9 2-2V5c0-1.1-.9-2-2-2zM9 17H7v-7h2v7zm4 0h-2V7h2v10zm4 0h-2v-4h2v4z\"/>\n",
              "    </g>\n",
              "</svg>\n",
              "  </button>\n",
              "\n",
              "<style>\n",
              "  .colab-df-quickchart {\n",
              "      --bg-color: #E8F0FE;\n",
              "      --fill-color: #1967D2;\n",
              "      --hover-bg-color: #E2EBFA;\n",
              "      --hover-fill-color: #174EA6;\n",
              "      --disabled-fill-color: #AAA;\n",
              "      --disabled-bg-color: #DDD;\n",
              "  }\n",
              "\n",
              "  [theme=dark] .colab-df-quickchart {\n",
              "      --bg-color: #3B4455;\n",
              "      --fill-color: #D2E3FC;\n",
              "      --hover-bg-color: #434B5C;\n",
              "      --hover-fill-color: #FFFFFF;\n",
              "      --disabled-bg-color: #3B4455;\n",
              "      --disabled-fill-color: #666;\n",
              "  }\n",
              "\n",
              "  .colab-df-quickchart {\n",
              "    background-color: var(--bg-color);\n",
              "    border: none;\n",
              "    border-radius: 50%;\n",
              "    cursor: pointer;\n",
              "    display: none;\n",
              "    fill: var(--fill-color);\n",
              "    height: 32px;\n",
              "    padding: 0;\n",
              "    width: 32px;\n",
              "  }\n",
              "\n",
              "  .colab-df-quickchart:hover {\n",
              "    background-color: var(--hover-bg-color);\n",
              "    box-shadow: 0 1px 2px rgba(60, 64, 67, 0.3), 0 1px 3px 1px rgba(60, 64, 67, 0.15);\n",
              "    fill: var(--button-hover-fill-color);\n",
              "  }\n",
              "\n",
              "  .colab-df-quickchart-complete:disabled,\n",
              "  .colab-df-quickchart-complete:disabled:hover {\n",
              "    background-color: var(--disabled-bg-color);\n",
              "    fill: var(--disabled-fill-color);\n",
              "    box-shadow: none;\n",
              "  }\n",
              "\n",
              "  .colab-df-spinner {\n",
              "    border: 2px solid var(--fill-color);\n",
              "    border-color: transparent;\n",
              "    border-bottom-color: var(--fill-color);\n",
              "    animation:\n",
              "      spin 1s steps(1) infinite;\n",
              "  }\n",
              "\n",
              "  @keyframes spin {\n",
              "    0% {\n",
              "      border-color: transparent;\n",
              "      border-bottom-color: var(--fill-color);\n",
              "      border-left-color: var(--fill-color);\n",
              "    }\n",
              "    20% {\n",
              "      border-color: transparent;\n",
              "      border-left-color: var(--fill-color);\n",
              "      border-top-color: var(--fill-color);\n",
              "    }\n",
              "    30% {\n",
              "      border-color: transparent;\n",
              "      border-left-color: var(--fill-color);\n",
              "      border-top-color: var(--fill-color);\n",
              "      border-right-color: var(--fill-color);\n",
              "    }\n",
              "    40% {\n",
              "      border-color: transparent;\n",
              "      border-right-color: var(--fill-color);\n",
              "      border-top-color: var(--fill-color);\n",
              "    }\n",
              "    60% {\n",
              "      border-color: transparent;\n",
              "      border-right-color: var(--fill-color);\n",
              "    }\n",
              "    80% {\n",
              "      border-color: transparent;\n",
              "      border-right-color: var(--fill-color);\n",
              "      border-bottom-color: var(--fill-color);\n",
              "    }\n",
              "    90% {\n",
              "      border-color: transparent;\n",
              "      border-bottom-color: var(--fill-color);\n",
              "    }\n",
              "  }\n",
              "</style>\n",
              "\n",
              "  <script>\n",
              "    async function quickchart(key) {\n",
              "      const quickchartButtonEl =\n",
              "        document.querySelector('#' + key + ' button');\n",
              "      quickchartButtonEl.disabled = true;  // To prevent multiple clicks.\n",
              "      quickchartButtonEl.classList.add('colab-df-spinner');\n",
              "      try {\n",
              "        const charts = await google.colab.kernel.invokeFunction(\n",
              "            'suggestCharts', [key], {});\n",
              "      } catch (error) {\n",
              "        console.error('Error during call to suggestCharts:', error);\n",
              "      }\n",
              "      quickchartButtonEl.classList.remove('colab-df-spinner');\n",
              "      quickchartButtonEl.classList.add('colab-df-quickchart-complete');\n",
              "    }\n",
              "    (() => {\n",
              "      let quickchartButtonEl =\n",
              "        document.querySelector('#df-1624a877-0776-455c-904a-3078ba825a54 button');\n",
              "      quickchartButtonEl.style.display =\n",
              "        google.colab.kernel.accessAllowed ? 'block' : 'none';\n",
              "    })();\n",
              "  </script>\n",
              "</div>\n",
              "    </div>\n",
              "  </div>\n"
            ],
            "application/vnd.google.colaboratory.intrinsic+json": {
              "type": "dataframe",
              "summary": "{\n  \"name\": \"df\",\n  \"rows\": 34,\n  \"fields\": [\n    {\n      \"column\": \"text\",\n      \"properties\": {\n        \"dtype\": \"string\",\n        \"num_unique_values\": 34,\n        \"samples\": [\n          \"Saya kerap dipanggil dengan nama orang tua saya, dan karya saya selalu tidak dihargai.\",\n          \"Pelaku memukul korban dan menendang berkali-kali hingga terjatuh.\",\n          \"Saya dipaksa guru saya untuk membersihkan toilet karena tidak mengerjakan pr. \"\n        ],\n        \"semantic_type\": \"\",\n        \"description\": \"\"\n      }\n    },\n    {\n      \"column\": \"sentiment\",\n      \"properties\": {\n        \"dtype\": \"category\",\n        \"num_unique_values\": 4,\n        \"samples\": [\n          \"Seksual\",\n          \"Bukan Bullying\",\n          \"Fisik\"\n        ],\n        \"semantic_type\": \"\",\n        \"description\": \"\"\n      }\n    },\n    {\n      \"column\": \"text_clean\",\n      \"properties\": {\n        \"dtype\": \"string\",\n        \"num_unique_values\": 34,\n        \"samples\": [\n          \"kerap dipanggil nama orang tua karya dihargai\",\n          \"pelaku memukul korban menendang berkalikali terjatuh\",\n          \"dipaksa guru membersihkan toilet pr\"\n        ],\n        \"semantic_type\": \"\",\n        \"description\": \"\"\n      }\n    },\n    {\n      \"column\": \"text_len\",\n      \"properties\": {\n        \"dtype\": \"number\",\n        \"std\": 5,\n        \"min\": 3,\n        \"max\": 25,\n        \"num_unique_values\": 15,\n        \"samples\": [\n          8,\n          6,\n          25\n        ],\n        \"semantic_type\": \"\",\n        \"description\": \"\"\n      }\n    }\n  ]\n}"
            }
          },
          "metadata": {},
          "execution_count": 22
        }
      ]
    },
    {
      "cell_type": "code",
      "source": [
        "df['sentiment'] = df['sentiment'].replace({'Fisik':0,'Psikis':1,'Seksual':2,'Bukan Bullying':3})"
      ],
      "metadata": {
        "id": "lCe9OtI7CHym"
      },
      "execution_count": null,
      "outputs": []
    },
    {
      "cell_type": "code",
      "source": [
        "df.dropna(subset=['sentiment'], inplace=True)"
      ],
      "metadata": {
        "id": "lLAUXco7CoZs"
      },
      "execution_count": null,
      "outputs": []
    },
    {
      "cell_type": "code",
      "source": [
        "X = df['text_clean']\n",
        "y = df['sentiment']\n",
        "\n",
        "X_train, X_valid, y_train, y_valid = train_test_split(X, y, test_size=0.2, stratify=y, random_state=seed_value)"
      ],
      "metadata": {
        "id": "EZkHittxCa7x"
      },
      "execution_count": null,
      "outputs": []
    },
    {
      "cell_type": "code",
      "source": [
        "(unique, counts) = np.unique(y_train, return_counts=True)\n",
        "np.asarray((unique, counts)).T"
      ],
      "metadata": {
        "id": "rMGvVp8zCwNq",
        "colab": {
          "base_uri": "https://localhost:8080/"
        },
        "outputId": "19812f92-68a3-4b10-aef8-4f44962a6eef"
      },
      "execution_count": null,
      "outputs": [
        {
          "output_type": "execute_result",
          "data": {
            "text/plain": [
              "array([[ 0, 14],\n",
              "       [ 1,  3],\n",
              "       [ 2,  4],\n",
              "       [ 3,  6]])"
            ]
          },
          "metadata": {},
          "execution_count": 26
        }
      ]
    },
    {
      "cell_type": "code",
      "source": [
        "ros = RandomOverSampler()\n",
        "X_train,y_train = ros.fit_resample(np.array(X_train).reshape(-1,1),np.array(y_train).reshape(-1,1));\n",
        "train_os = pd.DataFrame(list(zip([x[0] for x in X_train],y_train)),columns=['text_clean','sentiment'])"
      ],
      "metadata": {
        "id": "aGZl6d_yCy4U"
      },
      "execution_count": null,
      "outputs": []
    },
    {
      "cell_type": "code",
      "source": [
        "X_train = train_os['text_clean'].values\n",
        "y_train = train_os['sentiment'].values\n",
        "\n",
        "(unique, counts) = np.unique(y_train, return_counts=True)\n",
        "np.asarray((unique, counts)).T"
      ],
      "metadata": {
        "id": "TGFyZrwRC1mX",
        "colab": {
          "base_uri": "https://localhost:8080/"
        },
        "outputId": "d754edb8-038b-4b15-f063-e1537f81c140"
      },
      "execution_count": null,
      "outputs": [
        {
          "output_type": "execute_result",
          "data": {
            "text/plain": [
              "array([[ 0, 14],\n",
              "       [ 1, 14],\n",
              "       [ 2, 14],\n",
              "       [ 3, 14]])"
            ]
          },
          "metadata": {},
          "execution_count": 28
        }
      ]
    },
    {
      "cell_type": "code",
      "source": [
        "clf = CountVectorizer()\n",
        "X_train_cv = clf.fit_transform(X_train)\n",
        "X_valid_cv = clf.transform(X_valid)"
      ],
      "metadata": {
        "id": "03wB03Z6C4Tx"
      },
      "execution_count": null,
      "outputs": []
    },
    {
      "cell_type": "code",
      "source": [
        "tf_transformer = TfidfTransformer(use_idf=True).fit(X_train_cv)\n",
        "X_train_tf = tf_transformer.transform(X_train_cv)\n",
        "X_valid_tf = tf_transformer.transform(X_valid_cv)"
      ],
      "metadata": {
        "id": "bCWNG9zAC6l1"
      },
      "execution_count": null,
      "outputs": []
    },
    {
      "cell_type": "code",
      "source": [
        "nb_clf = MultinomialNB(alpha=0.5)\n",
        "nb_clf.fit(X_train_tf,y_train)\n",
        "nb_pred = nb_clf.predict(X_valid_tf)"
      ],
      "metadata": {
        "id": "4nE9zYYYC75N"
      },
      "execution_count": null,
      "outputs": []
    },
    {
      "cell_type": "code",
      "source": [
        "print(df['sentiment'].value_counts())\n"
      ],
      "metadata": {
        "id": "ZUdrnTLqHtDT",
        "colab": {
          "base_uri": "https://localhost:8080/"
        },
        "outputId": "3c63fadc-14f8-4be0-cb1c-b3a12d10ec89"
      },
      "execution_count": null,
      "outputs": [
        {
          "output_type": "stream",
          "name": "stdout",
          "text": [
            "sentiment\n",
            "0    18\n",
            "3     7\n",
            "2     5\n",
            "1     4\n",
            "Name: count, dtype: int64\n"
          ]
        }
      ]
    },
    {
      "cell_type": "code",
      "source": [
        "print('Classification Report for Naive Bayes:\\n',classification_report(y_valid,nb_pred,target_names=sentiments))"
      ],
      "metadata": {
        "id": "9GWAplYVC_X2",
        "colab": {
          "base_uri": "https://localhost:8080/"
        },
        "outputId": "8d3c3a87-34ff-4643-8e21-446dad6f0686"
      },
      "execution_count": null,
      "outputs": [
        {
          "output_type": "stream",
          "name": "stdout",
          "text": [
            "Classification Report for Naive Bayes:\n",
            "                 precision    recall  f1-score   support\n",
            "\n",
            "         Fisik       1.00      1.00      1.00         4\n",
            "        Psikis       1.00      1.00      1.00         1\n",
            "       Seksual       1.00      1.00      1.00         1\n",
            "Bukan Bullying       1.00      1.00      1.00         1\n",
            "\n",
            "      accuracy                           1.00         7\n",
            "     macro avg       1.00      1.00      1.00         7\n",
            "  weighted avg       1.00      1.00      1.00         7\n",
            "\n"
          ]
        }
      ]
    },
    {
      "cell_type": "code",
      "source": [
        "conf_matrix(y_valid,nb_pred,'Naive Bayes Sentiment Analysis\\nConfusion Matrix',sentiments)"
      ],
      "metadata": {
        "id": "5MhDcGmPFeUr",
        "colab": {
          "base_uri": "https://localhost:8080/",
          "height": 757
        },
        "outputId": "0bc602ba-3014-4214-c4c3-89ab4fcfbe4a"
      },
      "execution_count": null,
      "outputs": [
        {
          "output_type": "display_data",
          "data": {
            "text/plain": [
              "<Figure size 750x750 with 1 Axes>"
            ],
            "image/png": "[encoded data removed]"
          },
          "metadata": {}
        }
      ]
    },
    {
      "cell_type": "code",
      "source": [
        "def Tokenize(column,seq_len):\n",
        "    ##Create vocabulary of words from column\n",
        "    corpus = [word for text in column for word in text.split()]\n",
        "    count_words = Counter(corpus)\n",
        "    sorted_words = count_words.most_common()\n",
        "    vocab_to_int = {w:i+1 for i,(w,c) in enumerate(sorted_words)}\n",
        "\n",
        "    ##Tokenize the columns text using the vocabulary\n",
        "    text_int = []\n",
        "    for text in column:\n",
        "        r = [vocab_to_int[word] for word in text.split()]\n",
        "        text_int.append(r)\n",
        "\n",
        "    ##Add padding to tokens\n",
        "    features = np.zeros((len(text_int),seq_len),dtype=int)\n",
        "    for i,review in enumerate(text_int):\n",
        "        if len(review) <= seq_len:\n",
        "            zeros = list(np.zeros(seq_len - len(review)))\n",
        "            new = zeros + review\n",
        "        else:\n",
        "            new = review[:seq_len]\n",
        "        features[i,:]=np.array(new)\n",
        "\n",
        "    return sorted_words,features"
      ],
      "metadata": {
        "id": "mJKf689DKf8E"
      },
      "execution_count": null,
      "outputs": []
    },
    {
      "cell_type": "code",
      "source": [
        "vocabulary,tokenized_column = Tokenize(df['text_clean'],max_len)"
      ],
      "metadata": {
        "id": "hVNdUnASKwEj"
      },
      "execution_count": null,
      "outputs": []
    },
    {
      "cell_type": "code",
      "source": [
        "# We can check how each kejadian has been tokenized with an example:\n",
        "print(df[\"text_clean\"].iloc[10])\n",
        "print(' ')\n",
        "print('This sentence is transformed to the vector:\\n')\n",
        "print(tokenized_column[10])"
      ],
      "metadata": {
        "id": "ZNIKO2cwK6rF",
        "colab": {
          "base_uri": "https://localhost:8080/"
        },
        "outputId": "0cb1b1be-377c-4130-8eda-99a9d3a40ad5"
      },
      "execution_count": null,
      "outputs": [
        {
          "output_type": "stream",
          "name": "stdout",
          "text": [
            "korban pergi masjid sekolah salat zuhur tibatiba temannya menutupi wajah korban sajadah tangan korban diikat dipukul pelaku korban meningg akibat kelainan usu mendapati kekerasan fisik\n",
            " \n",
            "This sentence is transformed to the vector:\n",
            "\n",
            "[  1 112 113   6 114 115 116   8 117  13   1 118  30   1  16   3   2   1\n",
            " 119 120 121 122 123 124 125]\n"
          ]
        }
      ]
    },
    {
      "cell_type": "code",
      "source": [
        "# Moreover we can also check the TOP 20 most common words by extracting them from the vocabulary python dictionary we created with the tokenizer.\n",
        "keys = []\n",
        "values = []\n",
        "for key,value in vocabulary[:20]:\n",
        "    keys.append(key)\n",
        "    values.append(value)"
      ],
      "metadata": {
        "id": "ybCQV7EkK9UY"
      },
      "execution_count": null,
      "outputs": []
    },
    {
      "cell_type": "code",
      "source": [
        "plt.figure(figsize=(15, 5))\n",
        "ax = sns.barplot(x=keys, y=values, palette='mako')  # Gunakan x=keys dan y=values untuk menentukan data\n",
        "plt.title('Top 20 most common words', size=25)\n",
        "plt.ylabel(\"Words count\")\n",
        "plt.xticks(rotation=45)  # Rotasi label sumbu x agar lebih mudah dibaca\n",
        "plt.show()"
      ],
      "metadata": {
        "id": "3N191nI8LBK2",
        "colab": {
          "base_uri": "https://localhost:8080/",
          "height": 417
        },
        "outputId": "54d756b6-60eb-41bc-e9c5-fa3d11ab5ac3"
      },
      "execution_count": null,
      "outputs": [
        {
          "output_type": "stream",
          "name": "stderr",
          "text": [
            "<ipython-input-39-d381cfed00a8>:2: FutureWarning: \n",
            "\n",
            "Passing `palette` without assigning `hue` is deprecated and will be removed in v0.14.0. Assign the `x` variable to `hue` and set `legend=False` for the same effect.\n",
            "\n",
            "  ax = sns.barplot(x=keys, y=values, palette='mako')  # Gunakan x=keys dan y=values untuk menentukan data\n"
          ]
        },
        {
          "output_type": "display_data",
          "data": {
            "text/plain": [
              "<Figure size 1500x500 with 1 Axes>"
            ],
            "image/png": "[encoded data removed]"
          },
          "metadata": {}
        }
      ]
    },
    {
      "cell_type": "code",
      "source": [
        "Word2vec_train_data = list(map(lambda x:x.split(),X_train))"
      ],
      "metadata": {
        "id": "v3WHkco2MBK1"
      },
      "execution_count": null,
      "outputs": []
    },
    {
      "cell_type": "code",
      "source": [
        "EMBEDDING_DIM = 200"
      ],
      "metadata": {
        "id": "p65haUEiMK_I"
      },
      "execution_count": null,
      "outputs": []
    },
    {
      "cell_type": "code",
      "source": [
        "word2vec_model = Word2Vec(Word2vec_train_data,vector_size=EMBEDDING_DIM)"
      ],
      "metadata": {
        "id": "icOGAGA1MLaV"
      },
      "execution_count": null,
      "outputs": []
    },
    {
      "cell_type": "code",
      "source": [
        "print(f\"Vocabulary size: {len(vocabulary) + 1}\")\n",
        "VOCAB_SIZE = len(vocabulary) + 1 #+1 for the padding"
      ],
      "metadata": {
        "id": "remV3nQMMQR1",
        "colab": {
          "base_uri": "https://localhost:8080/"
        },
        "outputId": "2959017a-f9e5-4625-deaf-ef0211491ae0"
      },
      "execution_count": null,
      "outputs": [
        {
          "output_type": "stream",
          "name": "stdout",
          "text": [
            "Vocabulary size: 207\n"
          ]
        }
      ]
    },
    {
      "cell_type": "code",
      "source": [
        "#define empty embedding matrix\n",
        "embedding_matrix = np.zeros((VOCAB_SIZE,EMBEDDING_DIM))\n",
        "\n",
        "#fill the embedding matrix with the pre trained values from word2vec\n",
        "#    corresponding to word (string), token (number associated to the word)\n",
        "\n",
        "for word,token in vocabulary:\n",
        "    if word2vec_model.wv.__contains__(word):\n",
        "        embedding_matrix[token]=word2vec_model.wv.__getitem__(word)\n",
        "\n",
        "print(\"Embedding Matrix Shape:\", embedding_matrix.shape)"
      ],
      "metadata": {
        "id": "6ewGOqbtMZTi",
        "colab": {
          "base_uri": "https://localhost:8080/"
        },
        "outputId": "691bddcf-c552-4a94-b8dc-77885caf2ade"
      },
      "execution_count": null,
      "outputs": [
        {
          "output_type": "stream",
          "name": "stdout",
          "text": [
            "Embedding Matrix Shape: (207, 200)\n"
          ]
        }
      ]
    },
    {
      "cell_type": "code",
      "source": [
        "X = tokenized_column\n",
        "y = df['sentiment'].values\n",
        "\n",
        "X_train, X_valid, y_train, y_valid = train_test_split(X, y, test_size=0.2, stratify=y, random_state=seed_value)"
      ],
      "metadata": {
        "id": "UfFC56JOMmTo"
      },
      "execution_count": null,
      "outputs": []
    },
    {
      "cell_type": "code",
      "source": [
        "# We can check the balance of the target classes:\n",
        "(unique, counts) = np.unique(y_train, return_counts=True)\n",
        "np.asarray((unique, counts)).T"
      ],
      "metadata": {
        "id": "7-8uRqPNMoZV",
        "colab": {
          "base_uri": "https://localhost:8080/"
        },
        "outputId": "eefd407a-0dd3-46b9-bfcb-7c9e351dc6d3"
      },
      "execution_count": null,
      "outputs": [
        {
          "output_type": "execute_result",
          "data": {
            "text/plain": [
              "array([[ 0, 14],\n",
              "       [ 1,  3],\n",
              "       [ 2,  4],\n",
              "       [ 3,  6]])"
            ]
          },
          "metadata": {},
          "execution_count": 46
        }
      ]
    },
    {
      "cell_type": "code",
      "source": [
        "# And then apply random oversampling on the training set.\n",
        "ros = RandomOverSampler()\n",
        "X_train_os, y_train_os = ros.fit_resample(np.array(X_train),np.array(y_train));"
      ],
      "metadata": {
        "id": "LNlReGYZMrxQ"
      },
      "execution_count": null,
      "outputs": []
    },
    {
      "cell_type": "code",
      "source": [
        "(unique, counts) = np.unique(y_train_os, return_counts=True)\n",
        "np.asarray((unique, counts)).T"
      ],
      "metadata": {
        "id": "-dLY45lfM0tR",
        "colab": {
          "base_uri": "https://localhost:8080/"
        },
        "outputId": "07df156d-128b-4e97-c2d3-acfe572f6284"
      },
      "execution_count": null,
      "outputs": [
        {
          "output_type": "execute_result",
          "data": {
            "text/plain": [
              "array([[ 0, 14],\n",
              "       [ 1, 14],\n",
              "       [ 2, 14],\n",
              "       [ 3, 14]])"
            ]
          },
          "metadata": {},
          "execution_count": 48
        }
      ]
    },
    {
      "cell_type": "code",
      "source": [
        "train_data = TensorDataset(torch.from_numpy(X_train_os),torch.from_numpy(y_train_os))\n",
        "valid_data = TensorDataset(torch.from_numpy(X_valid),torch.from_numpy(y_valid))\n",
        "\n",
        "BATCH_SIZE = 32\n",
        "\n",
        "train_loader = DataLoader(train_data,shuffle=True,batch_size=BATCH_SIZE)\n",
        "valid_loader = DataLoader(valid_data, shuffle=True, batch_size=BATCH_SIZE)"
      ],
      "metadata": {
        "id": "SXbEtx8LM28n"
      },
      "execution_count": null,
      "outputs": []
    },
    {
      "cell_type": "code",
      "source": [
        "NUM_CLASSES = 5 #We are dealing with a multiclass classification of 5 classes\n",
        "HIDDEN_DIM = 100 #number of neurons of the internal state (internal neural network in the LSTM)\n",
        "LSTM_LAYERS = 1 #Number of stacked LSTM layers\n",
        "\n",
        "LR = 3e-4 #Learning rate\n",
        "DROPOUT = 0.1 #LSTM Dropout\n",
        "BIDIRECTIONAL = True #Boolean value to choose if to use a bidirectional LSTM or not\n",
        "EPOCHS = 10 #Number of training epoch\n",
        "\n",
        "DEVICE = 'cuda' if torch.cuda.is_available() else 'cpu'"
      ],
      "metadata": {
        "id": "rzOUaL6SM5d-"
      },
      "execution_count": null,
      "outputs": []
    },
    {
      "cell_type": "code",
      "source": [
        "class BiLSTM_Sentiment_Classifier(nn.Module):\n",
        "    def __init__(self,vocab_size,embedding_dim,hidden_dim,num_classes,lstm_layers,bidirectional,batch_size,dropout):\n",
        "        super(BiLSTM_Sentiment_Classifier,self).__init__()\n",
        "        self.lstm_layers = lstm_layers\n",
        "        self.num_directions = 2 if bidirectional else 1\n",
        "        self.hidden_dim = hidden_dim\n",
        "        self.batch_size = batch_size\n",
        "        self.embedding = nn.Embedding(vocab_size,embedding_dim)\n",
        "        self.lstm = nn.LSTM(embedding_dim,\n",
        "                           hidden_dim,\n",
        "                           num_layers = lstm_layers,\n",
        "                           dropout=dropout,\n",
        "                           bidirectional=bidirectional,\n",
        "                           batch_first=True)\n",
        "        self.fc = nn.Linear(hidden_dim*self.num_directions,num_classes)\n",
        "        self.softmax = nn.LogSoftmax(dim=1)\n",
        "\n",
        "    def forward(self,x,hidden):\n",
        "        self.batch_size = x.size(0)\n",
        "        ##EMBEDDING LAYER\n",
        "        embedded = self.embedding(x)\n",
        "        #LSTM LAYERS\n",
        "        out ,hidden = self.lstm(embedded,hidden)\n",
        "        #Extract only the hidden state from the last LSTM cell\n",
        "        out = out[:,-1,:]\n",
        "        #FULLY CONNECTED LAYERS\n",
        "        out = self.fc(out)\n",
        "        out = self.softmax(out)\n",
        "\n",
        "        return out,hidden\n",
        "\n",
        "    def init_hidden(self,batch_size):\n",
        "        #Initialization of the LSTM hidden and cell states\n",
        "        h0 = torch.zeros((self.lstm_layers*self.num_directions, batch_size, self.hidden_dim)).detach().to(DEVICE)\n",
        "        c0 = torch.zeros((self.lstm_layers*self.num_directions, batch_size, self.hidden_dim)).detach().to(DEVICE)\n",
        "        hidden = (h0,c0)\n",
        "        return hidden"
      ],
      "metadata": {
        "id": "B_1pT_OlNBAd"
      },
      "execution_count": null,
      "outputs": []
    },
    {
      "cell_type": "code",
      "source": [
        "model = BiLSTM_Sentiment_Classifier(VOCAB_SIZE, EMBEDDING_DIM, HIDDEN_DIM,NUM_CLASSES, LSTM_LAYERS,BIDIRECTIONAL, BATCH_SIZE, DROPOUT)\n",
        "model = model.to(DEVICE)\n",
        "\n",
        "#Initialize embedding with the previously defined embedding matrix\n",
        "model.embedding.weight.data.copy_(torch.from_numpy(embedding_matrix))\n",
        "#Allow the embedding matrix to be fined tuned to better adapt to out dataset and get higher accuracy\n",
        "model.embedding.weight.requires_grad=True\n",
        "\n",
        "print(model)"
      ],
      "metadata": {
        "id": "zIEye6xqNEU1",
        "colab": {
          "base_uri": "https://localhost:8080/"
        },
        "outputId": "ed0c2018-6c12-40fc-b2f6-7fa44274a9f5"
      },
      "execution_count": null,
      "outputs": [
        {
          "output_type": "stream",
          "name": "stdout",
          "text": [
            "BiLSTM_Sentiment_Classifier(\n",
            "  (embedding): Embedding(207, 200)\n",
            "  (lstm): LSTM(200, 100, batch_first=True, dropout=0.1, bidirectional=True)\n",
            "  (fc): Linear(in_features=200, out_features=5, bias=True)\n",
            "  (softmax): LogSoftmax(dim=1)\n",
            ")\n"
          ]
        },
        {
          "output_type": "stream",
          "name": "stderr",
          "text": [
            "/usr/local/lib/python3.10/dist-packages/torch/nn/modules/rnn.py:83: UserWarning: dropout option adds dropout after all but last recurrent layer, so non-zero dropout expects num_layers greater than 1, but got dropout=0.1 and num_layers=1\n",
            "  warnings.warn(\"dropout option adds dropout after all but last \"\n"
          ]
        }
      ]
    },
    {
      "cell_type": "code",
      "source": [
        "criterion = nn.NLLLoss()\n",
        "optimizer = torch.optim.AdamW(model.parameters(), lr=LR, weight_decay = 5e-6)"
      ],
      "metadata": {
        "id": "sGGa-gUcO2lC"
      },
      "execution_count": null,
      "outputs": []
    },
    {
      "cell_type": "code",
      "source": [
        "EPOCHS = 20  # Ubah nilai EPOCHS menjadi yang diinginkan (misalnya, 20)\n",
        "\n",
        "total_step = len(train_loader)\n",
        "total_step_val = len(valid_loader)\n",
        "\n",
        "early_stopping_patience = 4\n",
        "early_stopping_counter = 0\n",
        "\n",
        "valid_acc_max = 0  # Initialize best accuracy top 0\n",
        "\n",
        "for e in range(EPOCHS):\n",
        "    # Kode pelatihan dan validasi tetap sama seperti sebelumnya\n",
        "    ...\n",
        "\n",
        "for e in range(EPOCHS):\n",
        "\n",
        "    #lists to host the train and validation losses of every batch for each epoch\n",
        "    train_loss, valid_loss  = [], []\n",
        "    #lists to host the train and validation accuracy of every batch for each epoch\n",
        "    train_acc, valid_acc  = [], []\n",
        "\n",
        "    #lists to host the train and validation predictions of every batch for each epoch\n",
        "    y_train_list, y_val_list = [], []\n",
        "\n",
        "    #initalize number of total and correctly classified texts during training and validation\n",
        "    correct, correct_val = 0, 0\n",
        "    total, total_val = 0, 0\n",
        "    running_loss, running_loss_val = 0, 0\n",
        "\n",
        "\n",
        "    ####TRAINING LOOP####\n",
        "\n",
        "    model.train()\n",
        "\n",
        "    for inputs, labels in train_loader:\n",
        "        inputs, labels = inputs.to(DEVICE), labels.to(DEVICE) #load features and targets in device\n",
        "\n",
        "        h = model.init_hidden(labels.size(0))\n",
        "\n",
        "        model.zero_grad() #reset gradients\n",
        "\n",
        "        output, h = model(inputs,h) #get output and hidden states from LSTM network\n",
        "\n",
        "        loss = criterion(output, labels)\n",
        "        loss.backward()\n",
        "\n",
        "        running_loss += loss.item()\n",
        "\n",
        "        optimizer.step()\n",
        "\n",
        "        y_pred_train = torch.argmax(output, dim=1) #get tensor of predicted values on the training set\n",
        "        y_train_list.extend(y_pred_train.squeeze().tolist()) #transform tensor to list and the values to the list\n",
        "\n",
        "        correct += torch.sum(y_pred_train==labels).item() #count correctly classified texts per batch\n",
        "        total += labels.size(0) #count total texts per batch\n",
        "\n",
        "    train_loss.append(running_loss / total_step)\n",
        "    train_acc.append(100 * correct / total)\n",
        "\n",
        "    ####VALIDATION LOOP####\n",
        "\n",
        "    with torch.no_grad():\n",
        "\n",
        "        model.eval()\n",
        "\n",
        "        for inputs, labels in valid_loader:\n",
        "            inputs, labels = inputs.to(DEVICE), labels.to(DEVICE)\n",
        "\n",
        "            val_h = model.init_hidden(labels.size(0))\n",
        "\n",
        "            output, val_h = model(inputs, val_h)\n",
        "\n",
        "            val_loss = criterion(output, labels)\n",
        "            running_loss_val += val_loss.item()\n",
        "\n",
        "            y_pred_val = torch.argmax(output, dim=1)\n",
        "            y_val_list.extend(y_pred_val.squeeze().tolist())\n",
        "\n",
        "            correct_val += torch.sum(y_pred_val==labels).item()\n",
        "            total_val += labels.size(0)\n",
        "\n",
        "        valid_loss.append(running_loss_val / total_step_val)\n",
        "        valid_acc.append(100 * correct_val / total_val)\n",
        "\n",
        "    #Save model if validation accuracy increases\n",
        "    if np.mean(valid_acc) >= valid_acc_max:\n",
        "        torch.save(model.state_dict(), './state_dict.pt')\n",
        "        print(f'Epoch {e+1}:Validation accuracy increased ({valid_acc_max:.6f} --> {np.mean(valid_acc):.6f}).  Saving model ...')\n",
        "        valid_acc_max = np.mean(valid_acc)\n",
        "        early_stopping_counter=0 #reset counter if validation accuracy increases\n",
        "    else:\n",
        "        print(f'Epoch {e+1}:Validation accuracy did not increase')\n",
        "        early_stopping_counter+=1 #increase counter if validation accuracy does not increase\n",
        "\n",
        "    if early_stopping_counter > early_stopping_patience:\n",
        "        print('Early stopped at epoch :', e+1)\n",
        "        break\n",
        "\n",
        "    print(f'\\tTrain_loss : {np.mean(train_loss):.4f} Val_loss : {np.mean(valid_loss):.4f}')\n",
        "    print(f'\\tTrain_acc : {np.mean(train_acc):.3f}% Val_acc : {np.mean(valid_acc):.3f}%')"
      ],
      "metadata": {
        "id": "VTGZwR3AO6Fd",
        "colab": {
          "base_uri": "https://localhost:8080/"
        },
        "outputId": "4b0bb442-7741-4ebd-bfb1-20cea3685b93"
      },
      "execution_count": null,
      "outputs": [
        {
          "output_type": "stream",
          "name": "stdout",
          "text": [
            "Epoch 1:Validation accuracy increased (0.000000 --> 57.142857).  Saving model ...\n",
            "\tTrain_loss : 0.0093 Val_loss : 1.0052\n",
            "\tTrain_acc : 100.000% Val_acc : 57.143%\n",
            "Epoch 2:Validation accuracy increased (57.142857 --> 57.142857).  Saving model ...\n",
            "\tTrain_loss : 0.0088 Val_loss : 1.0104\n",
            "\tTrain_acc : 100.000% Val_acc : 57.143%\n",
            "Epoch 3:Validation accuracy increased (57.142857 --> 57.142857).  Saving model ...\n",
            "\tTrain_loss : 0.0084 Val_loss : 1.0143\n",
            "\tTrain_acc : 100.000% Val_acc : 57.143%\n",
            "Epoch 4:Validation accuracy increased (57.142857 --> 57.142857).  Saving model ...\n",
            "\tTrain_loss : 0.0078 Val_loss : 1.0158\n",
            "\tTrain_acc : 100.000% Val_acc : 57.143%\n",
            "Epoch 5:Validation accuracy increased (57.142857 --> 57.142857).  Saving model ...\n",
            "\tTrain_loss : 0.0077 Val_loss : 1.0166\n",
            "\tTrain_acc : 100.000% Val_acc : 57.143%\n",
            "Epoch 6:Validation accuracy increased (57.142857 --> 57.142857).  Saving model ...\n",
            "\tTrain_loss : 0.0072 Val_loss : 1.0161\n",
            "\tTrain_acc : 100.000% Val_acc : 57.143%\n",
            "Epoch 7:Validation accuracy increased (57.142857 --> 71.428571).  Saving model ...\n",
            "\tTrain_loss : 0.0069 Val_loss : 1.0147\n",
            "\tTrain_acc : 100.000% Val_acc : 71.429%\n",
            "Epoch 8:Validation accuracy increased (71.428571 --> 71.428571).  Saving model ...\n",
            "\tTrain_loss : 0.0068 Val_loss : 1.0121\n",
            "\tTrain_acc : 100.000% Val_acc : 71.429%\n",
            "Epoch 9:Validation accuracy increased (71.428571 --> 71.428571).  Saving model ...\n",
            "\tTrain_loss : 0.0065 Val_loss : 1.0089\n",
            "\tTrain_acc : 100.000% Val_acc : 71.429%\n",
            "Epoch 10:Validation accuracy increased (71.428571 --> 71.428571).  Saving model ...\n",
            "\tTrain_loss : 0.0062 Val_loss : 1.0058\n",
            "\tTrain_acc : 100.000% Val_acc : 71.429%\n",
            "Epoch 11:Validation accuracy increased (71.428571 --> 71.428571).  Saving model ...\n",
            "\tTrain_loss : 0.0059 Val_loss : 1.0018\n",
            "\tTrain_acc : 100.000% Val_acc : 71.429%\n",
            "Epoch 12:Validation accuracy increased (71.428571 --> 71.428571).  Saving model ...\n",
            "\tTrain_loss : 0.0058 Val_loss : 0.9980\n",
            "\tTrain_acc : 100.000% Val_acc : 71.429%\n",
            "Epoch 13:Validation accuracy increased (71.428571 --> 71.428571).  Saving model ...\n",
            "\tTrain_loss : 0.0055 Val_loss : 0.9940\n",
            "\tTrain_acc : 100.000% Val_acc : 71.429%\n",
            "Epoch 14:Validation accuracy increased (71.428571 --> 71.428571).  Saving model ...\n",
            "\tTrain_loss : 0.0053 Val_loss : 0.9908\n",
            "\tTrain_acc : 100.000% Val_acc : 71.429%\n",
            "Epoch 15:Validation accuracy increased (71.428571 --> 71.428571).  Saving model ...\n",
            "\tTrain_loss : 0.0052 Val_loss : 0.9875\n",
            "\tTrain_acc : 100.000% Val_acc : 71.429%\n",
            "Epoch 16:Validation accuracy increased (71.428571 --> 71.428571).  Saving model ...\n",
            "\tTrain_loss : 0.0051 Val_loss : 0.9848\n",
            "\tTrain_acc : 100.000% Val_acc : 71.429%\n",
            "Epoch 17:Validation accuracy increased (71.428571 --> 71.428571).  Saving model ...\n",
            "\tTrain_loss : 0.0048 Val_loss : 0.9824\n",
            "\tTrain_acc : 100.000% Val_acc : 71.429%\n",
            "Epoch 18:Validation accuracy increased (71.428571 --> 71.428571).  Saving model ...\n",
            "\tTrain_loss : 0.0047 Val_loss : 0.9802\n",
            "\tTrain_acc : 100.000% Val_acc : 71.429%\n",
            "Epoch 19:Validation accuracy increased (71.428571 --> 71.428571).  Saving model ...\n",
            "\tTrain_loss : 0.0047 Val_loss : 0.9783\n",
            "\tTrain_acc : 100.000% Val_acc : 71.429%\n",
            "Epoch 20:Validation accuracy increased (71.428571 --> 71.428571).  Saving model ...\n",
            "\tTrain_loss : 0.0044 Val_loss : 0.9767\n",
            "\tTrain_acc : 100.000% Val_acc : 71.429%\n"
          ]
        }
      ]
    },
    {
      "cell_type": "code",
      "source": [
        "model.load_state_dict(torch.load('./state_dict.pt'))"
      ],
      "metadata": {
        "id": "561L5aV9R7pv",
        "colab": {
          "base_uri": "https://localhost:8080/"
        },
        "outputId": "a7a75a69-e2a6-4e36-dd8c-0dea46bf01db"
      },
      "execution_count": null,
      "outputs": [
        {
          "output_type": "execute_result",
          "data": {
            "text/plain": [
              "<All keys matched successfully>"
            ]
          },
          "metadata": {},
          "execution_count": 65
        }
      ]
    },
    {
      "cell_type": "code",
      "source": [
        "y_pred_list = []\n",
        "y_val_list = []\n",
        "for inputs, labels in valid_loader:\n",
        "    inputs, labels = inputs.to(DEVICE), labels.to(DEVICE)\n",
        "    val_h = model.init_hidden(labels.size(0))\n",
        "\n",
        "    output, val_h = model(inputs, val_h)\n",
        "    y_pred_val = torch.argmax(output, dim=1)\n",
        "    y_pred_list.extend(y_pred_val.squeeze().tolist())\n",
        "    y_val_list.extend(labels.squeeze().tolist())"
      ],
      "metadata": {
        "id": "DygiVx5TSCPD"
      },
      "execution_count": null,
      "outputs": []
    },
    {
      "cell_type": "code",
      "source": [
        "print('Classification Report for Bi-LSTM :\\n', classification_report(y_val_list, y_pred_list, target_names=sentiments))\n",
        "print(' ')\n",
        "conf_matrix(y_val_list,y_pred_list,'PyTorch Bi-LSTM Sentiment Analysis\\nConfusion Matrix', sentiments)"
      ],
      "metadata": {
        "id": "kqSTcTiVSJYa",
        "colab": {
          "base_uri": "https://localhost:8080/",
          "height": 1000
        },
        "outputId": "7560da78-9bab-4d0c-fe05-2ae93a5045f1"
      },
      "execution_count": null,
      "outputs": [
        {
          "output_type": "stream",
          "name": "stderr",
          "text": [
            "/usr/local/lib/python3.10/dist-packages/sklearn/metrics/_classification.py:1344: UndefinedMetricWarning: Precision and F-score are ill-defined and being set to 0.0 in labels with no predicted samples. Use `zero_division` parameter to control this behavior.\n",
            "  _warn_prf(average, modifier, msg_start, len(result))\n",
            "/usr/local/lib/python3.10/dist-packages/sklearn/metrics/_classification.py:1344: UndefinedMetricWarning: Precision and F-score are ill-defined and being set to 0.0 in labels with no predicted samples. Use `zero_division` parameter to control this behavior.\n",
            "  _warn_prf(average, modifier, msg_start, len(result))\n",
            "/usr/local/lib/python3.10/dist-packages/sklearn/metrics/_classification.py:1344: UndefinedMetricWarning: Precision and F-score are ill-defined and being set to 0.0 in labels with no predicted samples. Use `zero_division` parameter to control this behavior.\n",
            "  _warn_prf(average, modifier, msg_start, len(result))\n"
          ]
        },
        {
          "output_type": "stream",
          "name": "stdout",
          "text": [
            "Classification Report for Bi-LSTM :\n",
            "                 precision    recall  f1-score   support\n",
            "\n",
            "         Fisik       1.00      0.75      0.86         4\n",
            "        Psikis       0.00      0.00      0.00         1\n",
            "       Seksual       0.50      1.00      0.67         1\n",
            "Bukan Bullying       0.50      1.00      0.67         1\n",
            "\n",
            "      accuracy                           0.71         7\n",
            "     macro avg       0.50      0.69      0.55         7\n",
            "  weighted avg       0.71      0.71      0.68         7\n",
            "\n",
            " \n"
          ]
        },
        {
          "output_type": "display_data",
          "data": {
            "text/plain": [
              "<Figure size 750x750 with 1 Axes>"
            ],
            "image/png": "[encoded data removed]"
          },
          "metadata": {}
        }
      ]
    },
    {
      "cell_type": "code",
      "source": [
        "X = df['text_clean'].values\n",
        "y = df['sentiment'].values\n",
        "\n",
        "X_train, X_valid, y_train, y_valid = train_test_split(X, y, test_size=0.2, stratify=y, random_state=seed_value)\n",
        "\n",
        "ros = RandomOverSampler()\n",
        "X_train_os, y_train_os = ros.fit_resample(np.array(X_train).reshape(-1,1),np.array(y_train).reshape(-1,1))\n",
        "\n",
        "X_train_os = X_train_os.flatten()\n",
        "y_train_os = y_train_os.flatten()\n",
        "\n",
        "(unique, counts) = np.unique(y_train_os, return_counts=True)\n",
        "np.asarray((unique, counts)).T"
      ],
      "metadata": {
        "id": "h5KsyjjGSw1P",
        "colab": {
          "base_uri": "https://localhost:8080/"
        },
        "outputId": "e7784e39-8ac4-450a-cf57-2b6e26a07782"
      },
      "execution_count": null,
      "outputs": [
        {
          "output_type": "execute_result",
          "data": {
            "text/plain": [
              "array([[ 0, 14],\n",
              "       [ 1, 14],\n",
              "       [ 2, 14],\n",
              "       [ 3, 14]])"
            ]
          },
          "metadata": {},
          "execution_count": 68
        }
      ]
    },
    {
      "cell_type": "code",
      "source": [
        "tokenizer = BertTokenizer.from_pretrained('bert-base-uncased',do_lower_case=True)"
      ],
      "metadata": {
        "id": "KkuVlHMwTamG",
        "colab": {
          "base_uri": "https://localhost:8080/",
          "height": 269,
          "referenced_widgets": [
            "3ee0ce47c8b041f4af32e20d7f746917",
            "28d08d52ec674d108a44efcc3cdb6910",
            "c275f9969de74ba090c9ba5a458167c8",
            "edf285d230474836b45641ce6d37592e",
            "0fbfdffac49e4b23bdb212a98ba348bd",
            "14f69de66c934af08f0dda6b94c1f6f8",
            "24425610b59745ce91cb7e6f9fb152f5",
            "ec6505fead63443fbd10a1ccfde91d79",
            "6f0f403d79a94e22a79af63e894f736e",
            "c42c8dccdda74dc28a24acc4362dd3e8",
            "63d5e6123a9f48b1929b2d5e6ede7875",
            "133e107af212447584e9664b67e9e149",
            "c6b990b76e2b44b8b91cabd26814684b",
            "21e7addca99041b98bca350f08442eda",
            "1a973ce97f0447bbb766c7ae02801e58",
            "659af517be3146a59f3eeb9a95220c5d",
            "00545509512546b5a95c05597922fdb9",
            "9f0efa98e3254dc3af251127c98e54cc",
            "da1ce557c41b408ea6dab47d6086277b",
            "98b45825b43046e9b26949563e626c8f",
            "7ffc6f79510e4063868fb9d976e7f92f",
            "9c82e73640694f3391dc8ac3c2c8114f",
            "a19b88f8c7cc44b58b84675ca421d11a",
            "2a860fb59aab44e5981590a3fbee6fe2",
            "fb87b01cc28248458b4cecb1ab0c019d",
            "4eee8a1373eb4bfdb18632e5c2037127",
            "2d99334d1c26484b9d806699fb043dfb",
            "2da1aad226204a27a3bfd7cb3fdc1060",
            "f0f5d213f9244d879591f4192888e2ba",
            "47cda5d9bc1740beb0d072c6276e50fb",
            "87099a1d1c0b4ce38da92f29f4464e8f",
            "9990ae23c8ce4c40bfbe487dd2e0d8a8",
            "7ed2eaba873e429b8082506a227c9b2e",
            "454b544db89d4d54af7a2aba33d2ee7e",
            "242a205aab4040149ea7c9f533647285",
            "b9e75e9fa2964b45b382b29009602304",
            "ec3d762cda0a47feb63b8f52480244b4",
            "45df674aceaa4cbeac34c85d2ac81ba4",
            "7dcc1015090f469cac9bfd2d8ed51dcf",
            "1cfee9a65988490ca19212b10b7eee47",
            "6b5d9f9d87e945db974bb4c16bfd97f5",
            "92bee29561e347fc853a282657ecc8f2",
            "0878d3bfde944248aa22ee1dfda30aec",
            "66b15f6150ce486c985b4070c0f71ead"
          ]
        },
        "outputId": "574ae52c-cc83-4c20-a434-2630e86508bf"
      },
      "execution_count": null,
      "outputs": [
        {
          "output_type": "stream",
          "name": "stderr",
          "text": [
            "/usr/local/lib/python3.10/dist-packages/huggingface_hub/utils/_token.py:88: UserWarning: \n",
            "The secret `HF_TOKEN` does not exist in your Colab secrets.\n",
            "To authenticate with the Hugging Face Hub, create a token in your settings tab (https://huggingface.co/settings/tokens), set it as secret in your Google Colab and restart your session.\n",
            "You will be able to reuse this secret in all of your notebooks.\n",
            "Please note that authentication is recommended but still optional to access public models or datasets.\n",
            "  warnings.warn(\n"
          ]
        },
        {
          "output_type": "display_data",
          "data": {
            "text/plain": [
              "tokenizer_config.json:   0%|          | 0.00/48.0 [00:00<?, ?B/s]"
            ],
            "application/vnd.jupyter.widget-view+json": {
              "version_major": 2,
              "version_minor": 0,
              "model_id": "3ee0ce47c8b041f4af32e20d7f746917"
            }
          },
          "metadata": {}
        },
        {
          "output_type": "display_data",
          "data": {
            "text/plain": [
              "vocab.txt:   0%|          | 0.00/232k [00:00<?, ?B/s]"
            ],
            "application/vnd.jupyter.widget-view+json": {
              "version_major": 2,
              "version_minor": 0,
              "model_id": "133e107af212447584e9664b67e9e149"
            }
          },
          "metadata": {}
        },
        {
          "output_type": "display_data",
          "data": {
            "text/plain": [
              "tokenizer.json:   0%|          | 0.00/466k [00:00<?, ?B/s]"
            ],
            "application/vnd.jupyter.widget-view+json": {
              "version_major": 2,
              "version_minor": 0,
              "model_id": "a19b88f8c7cc44b58b84675ca421d11a"
            }
          },
          "metadata": {}
        },
        {
          "output_type": "display_data",
          "data": {
            "text/plain": [
              "config.json:   0%|          | 0.00/570 [00:00<?, ?B/s]"
            ],
            "application/vnd.jupyter.widget-view+json": {
              "version_major": 2,
              "version_minor": 0,
              "model_id": "454b544db89d4d54af7a2aba33d2ee7e"
            }
          },
          "metadata": {}
        }
      ]
    },
    {
      "cell_type": "code",
      "source": [
        "def Bert_tokenizer(data):\n",
        "    input_ids = []\n",
        "    attention_masks = []\n",
        "    for sent in data:\n",
        "        encoded_sent = tokenizer.encode_plus(\n",
        "            text=sent,\n",
        "            add_special_tokens=True,        # Add `[CLS]` and `[SEP]` special tokens\n",
        "            max_length=MAX_LEN,             # Choose max length to truncate/pad\n",
        "            pad_to_max_length=True,         # Pad sentence to max length\n",
        "            return_attention_mask=True      # Return attention mask\n",
        "        )\n",
        "        input_ids.append(encoded_sent.get('input_ids'))\n",
        "        attention_masks.append(encoded_sent.get('attention_mask'))\n",
        "\n",
        "    # Convert lists to tensors\n",
        "    input_ids = torch.tensor(input_ids)\n",
        "    attention_masks = torch.tensor(attention_masks)\n",
        "\n",
        "    return input_ids,attention_masks"
      ],
      "metadata": {
        "id": "0NOsTSX1cvnN"
      },
      "execution_count": null,
      "outputs": []
    },
    {
      "cell_type": "code",
      "source": [
        "# Tokenize train Kejadian\n",
        "encoded_texts = [tokenizer.encode(sent,add_special_tokens=True) for sent in X_train]\n",
        "\n",
        "# Find the longest tokenized Kejadian\n",
        "max_len = max([len(sent) for sent in encoded_texts])\n",
        "print('Max length: ', max_len) # -> 126\n",
        "\n",
        "# Let's keep MAX_LEN = 128\n",
        "MAX_LEN = 128"
      ],
      "metadata": {
        "id": "bQN2Qnt0cyXe",
        "colab": {
          "base_uri": "https://localhost:8080/"
        },
        "outputId": "c8ed7854-c48a-4792-c958-f3d0a3df4f22"
      },
      "execution_count": null,
      "outputs": [
        {
          "output_type": "stream",
          "name": "stdout",
          "text": [
            "Max length:  66\n"
          ]
        }
      ]
    },
    {
      "cell_type": "code",
      "source": [
        "train_inputs, train_masks = Bert_tokenizer(X_train_os)\n",
        "val_inputs, val_masks = Bert_tokenizer(X_valid)"
      ],
      "metadata": {
        "id": "WZg59KhBeVWO",
        "colab": {
          "base_uri": "https://localhost:8080/"
        },
        "outputId": "76156ed5-988a-46f0-c843-52b5b855bf75"
      },
      "execution_count": null,
      "outputs": [
        {
          "output_type": "stream",
          "name": "stderr",
          "text": [
            "Truncation was not explicitly activated but `max_length` is provided a specific value, please use `truncation=True` to explicitly truncate examples to max length. Defaulting to 'longest_first' truncation strategy. If you encode pairs of sequences (GLUE-style) with the tokenizer you can select this strategy more precisely by providing a specific strategy to `truncation`.\n",
            "/usr/local/lib/python3.10/dist-packages/transformers/tokenization_utils_base.py:2674: FutureWarning: The `pad_to_max_length` argument is deprecated and will be removed in a future version, use `padding=True` or `padding='longest'` to pad to the longest sequence in the batch, or use `padding='max_length'` to pad to a max length. In this case, you can give a specific length with `max_length` (e.g. `max_length=45`) or leave max_length to None to pad to the maximal input size of the model (e.g. 512 for Bert).\n",
            "  warnings.warn(\n"
          ]
        }
      ]
    },
    {
      "cell_type": "code",
      "source": [
        "train_labels = torch.tensor(y_train_os)\n",
        "val_labels = torch.tensor(y_valid)"
      ],
      "metadata": {
        "id": "iE_2IPEbeXog"
      },
      "execution_count": null,
      "outputs": []
    },
    {
      "cell_type": "code",
      "source": [
        "batch_size = 32\n",
        "\n",
        "# Create the DataLoader for our training set\n",
        "train_dataset = TensorDataset(train_inputs,train_masks,train_labels)\n",
        "train_sampler = RandomSampler(train_dataset)\n",
        "train_dataloader = torch.utils.data.DataLoader(train_dataset,sampler=train_sampler,batch_size=batch_size,num_workers=2)\n",
        "\n",
        "# Create the DataLoader for our validation set\n",
        "val_dataset = TensorDataset(val_inputs, val_masks, val_labels)\n",
        "val_sampler = SequentialSampler(val_dataset)\n",
        "val_dataloader = DataLoader(val_dataset,sampler=val_sampler,batch_size=batch_size,num_workers=2)"
      ],
      "metadata": {
        "id": "Gulnr6hYeoRb"
      },
      "execution_count": null,
      "outputs": []
    }
  ]
}